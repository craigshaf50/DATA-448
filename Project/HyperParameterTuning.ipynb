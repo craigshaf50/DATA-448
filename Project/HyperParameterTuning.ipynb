{
 "cells": [
  {
   "cell_type": "markdown",
   "id": "d5339f51-c4c0-45b9-b87f-653d1524f96a",
   "metadata": {},
   "source": [
    "# Importing Data and Packages #"
   ]
  },
  {
   "cell_type": "code",
   "execution_count": 1,
   "id": "f2548bf1-1fe6-40c1-86c0-f2aa3856ecec",
   "metadata": {
    "tags": []
   },
   "outputs": [
    {
     "name": "stdout",
     "output_type": "stream",
     "text": [
      "Looking in indexes: https://pypi.org/simple, https://pip.repos.neuron.amazonaws.com\n",
      "Requirement already satisfied: xgboost in /home/ec2-user/anaconda3/envs/python3/lib/python3.10/site-packages (1.7.5)\n",
      "Requirement already satisfied: scipy in /home/ec2-user/anaconda3/envs/python3/lib/python3.10/site-packages (from xgboost) (1.10.0)\n",
      "Requirement already satisfied: numpy in /home/ec2-user/anaconda3/envs/python3/lib/python3.10/site-packages (from xgboost) (1.22.3)\n",
      "Note: you may need to restart the kernel to use updated packages.\n"
     ]
    }
   ],
   "source": [
    "pip install xgboost"
   ]
  },
  {
   "cell_type": "code",
   "execution_count": 12,
   "id": "bda1e2fe-d1fb-448b-9043-bdd0afdfcee4",
   "metadata": {
    "tags": []
   },
   "outputs": [
    {
     "data": {
      "text/html": [
       "<div>\n",
       "<style scoped>\n",
       "    .dataframe tbody tr th:only-of-type {\n",
       "        vertical-align: middle;\n",
       "    }\n",
       "\n",
       "    .dataframe tbody tr th {\n",
       "        vertical-align: top;\n",
       "    }\n",
       "\n",
       "    .dataframe thead th {\n",
       "        text-align: right;\n",
       "    }\n",
       "</style>\n",
       "<table border=\"1\" class=\"dataframe\">\n",
       "  <thead>\n",
       "    <tr style=\"text-align: right;\">\n",
       "      <th></th>\n",
       "      <th>Year_Birth</th>\n",
       "      <th>Income</th>\n",
       "      <th>Kidhome</th>\n",
       "      <th>Teenhome</th>\n",
       "      <th>Recency</th>\n",
       "      <th>MntWines</th>\n",
       "      <th>MntFruits</th>\n",
       "      <th>MntMeatProducts</th>\n",
       "      <th>MntFishProducts</th>\n",
       "      <th>MntSweetProducts</th>\n",
       "      <th>MntGoldProds</th>\n",
       "      <th>NumDealsPurchases</th>\n",
       "      <th>NumWebPurchases</th>\n",
       "      <th>NumCatalogPurchases</th>\n",
       "      <th>NumStorePurchases</th>\n",
       "      <th>NumWebVisitsMonth</th>\n",
       "      <th>Complain</th>\n",
       "      <th>Income_imp</th>\n",
       "      <th>Education_Basic</th>\n",
       "      <th>Education_Graduation</th>\n",
       "      <th>Education_Master</th>\n",
       "      <th>Education_PhD</th>\n",
       "      <th>Marital_Status_Divorced</th>\n",
       "      <th>Marital_Status_Married</th>\n",
       "      <th>Marital_Status_Single</th>\n",
       "      <th>Marital_Status_Widow</th>\n",
       "      <th>Age</th>\n",
       "      <th>Child</th>\n",
       "      <th>MntTotal</th>\n",
       "      <th>Recency_u50</th>\n",
       "      <th>TotalPurchses</th>\n",
       "      <th>Enr_year</th>\n",
       "      <th>Enr_quarter</th>\n",
       "      <th>Enr_month</th>\n",
       "      <th>Log_Income</th>\n",
       "      <th>Interaction_1</th>\n",
       "      <th>Interaction_2</th>\n",
       "      <th>Interaction_3</th>\n",
       "      <th>Interaction_4</th>\n",
       "      <th>Interaction_5</th>\n",
       "      <th>Interaction_6</th>\n",
       "      <th>Tree_1</th>\n",
       "      <th>Tree_2</th>\n",
       "      <th>Tree_3</th>\n",
       "      <th>Response</th>\n",
       "    </tr>\n",
       "  </thead>\n",
       "  <tbody>\n",
       "    <tr>\n",
       "      <th>0</th>\n",
       "      <td>1970</td>\n",
       "      <td>84835.0</td>\n",
       "      <td>0</td>\n",
       "      <td>0</td>\n",
       "      <td>0</td>\n",
       "      <td>189</td>\n",
       "      <td>104</td>\n",
       "      <td>379</td>\n",
       "      <td>111</td>\n",
       "      <td>189</td>\n",
       "      <td>218</td>\n",
       "      <td>1</td>\n",
       "      <td>4</td>\n",
       "      <td>4</td>\n",
       "      <td>6</td>\n",
       "      <td>1</td>\n",
       "      <td>0</td>\n",
       "      <td>0</td>\n",
       "      <td>0</td>\n",
       "      <td>1</td>\n",
       "      <td>0</td>\n",
       "      <td>0</td>\n",
       "      <td>1</td>\n",
       "      <td>0</td>\n",
       "      <td>0</td>\n",
       "      <td>0</td>\n",
       "      <td>53</td>\n",
       "      <td>0</td>\n",
       "      <td>1190</td>\n",
       "      <td>1</td>\n",
       "      <td>14</td>\n",
       "      <td>2014</td>\n",
       "      <td>2</td>\n",
       "      <td>6</td>\n",
       "      <td>11.348463</td>\n",
       "      <td>259420</td>\n",
       "      <td>4760</td>\n",
       "      <td>0</td>\n",
       "      <td>872</td>\n",
       "      <td>0</td>\n",
       "      <td>0</td>\n",
       "      <td>0</td>\n",
       "      <td>0</td>\n",
       "      <td>0</td>\n",
       "      <td>1</td>\n",
       "    </tr>\n",
       "    <tr>\n",
       "      <th>1</th>\n",
       "      <td>1961</td>\n",
       "      <td>57091.0</td>\n",
       "      <td>0</td>\n",
       "      <td>0</td>\n",
       "      <td>0</td>\n",
       "      <td>464</td>\n",
       "      <td>5</td>\n",
       "      <td>64</td>\n",
       "      <td>7</td>\n",
       "      <td>0</td>\n",
       "      <td>37</td>\n",
       "      <td>1</td>\n",
       "      <td>7</td>\n",
       "      <td>3</td>\n",
       "      <td>7</td>\n",
       "      <td>5</td>\n",
       "      <td>0</td>\n",
       "      <td>0</td>\n",
       "      <td>0</td>\n",
       "      <td>1</td>\n",
       "      <td>0</td>\n",
       "      <td>0</td>\n",
       "      <td>0</td>\n",
       "      <td>0</td>\n",
       "      <td>1</td>\n",
       "      <td>0</td>\n",
       "      <td>62</td>\n",
       "      <td>0</td>\n",
       "      <td>577</td>\n",
       "      <td>1</td>\n",
       "      <td>17</td>\n",
       "      <td>2014</td>\n",
       "      <td>2</td>\n",
       "      <td>6</td>\n",
       "      <td>10.952402</td>\n",
       "      <td>21349</td>\n",
       "      <td>1731</td>\n",
       "      <td>0</td>\n",
       "      <td>111</td>\n",
       "      <td>0</td>\n",
       "      <td>0</td>\n",
       "      <td>0</td>\n",
       "      <td>1</td>\n",
       "      <td>0</td>\n",
       "      <td>1</td>\n",
       "    </tr>\n",
       "    <tr>\n",
       "      <th>2</th>\n",
       "      <td>1958</td>\n",
       "      <td>67267.0</td>\n",
       "      <td>0</td>\n",
       "      <td>1</td>\n",
       "      <td>0</td>\n",
       "      <td>134</td>\n",
       "      <td>11</td>\n",
       "      <td>59</td>\n",
       "      <td>15</td>\n",
       "      <td>2</td>\n",
       "      <td>30</td>\n",
       "      <td>1</td>\n",
       "      <td>3</td>\n",
       "      <td>2</td>\n",
       "      <td>5</td>\n",
       "      <td>2</td>\n",
       "      <td>0</td>\n",
       "      <td>0</td>\n",
       "      <td>0</td>\n",
       "      <td>1</td>\n",
       "      <td>0</td>\n",
       "      <td>0</td>\n",
       "      <td>0</td>\n",
       "      <td>1</td>\n",
       "      <td>0</td>\n",
       "      <td>0</td>\n",
       "      <td>65</td>\n",
       "      <td>1</td>\n",
       "      <td>251</td>\n",
       "      <td>1</td>\n",
       "      <td>10</td>\n",
       "      <td>2014</td>\n",
       "      <td>2</td>\n",
       "      <td>5</td>\n",
       "      <td>11.116425</td>\n",
       "      <td>7530</td>\n",
       "      <td>502</td>\n",
       "      <td>0</td>\n",
       "      <td>60</td>\n",
       "      <td>0</td>\n",
       "      <td>0</td>\n",
       "      <td>0</td>\n",
       "      <td>1</td>\n",
       "      <td>0</td>\n",
       "      <td>0</td>\n",
       "    </tr>\n",
       "    <tr>\n",
       "      <th>3</th>\n",
       "      <td>1967</td>\n",
       "      <td>32474.0</td>\n",
       "      <td>1</td>\n",
       "      <td>1</td>\n",
       "      <td>0</td>\n",
       "      <td>10</td>\n",
       "      <td>0</td>\n",
       "      <td>1</td>\n",
       "      <td>0</td>\n",
       "      <td>0</td>\n",
       "      <td>0</td>\n",
       "      <td>1</td>\n",
       "      <td>1</td>\n",
       "      <td>0</td>\n",
       "      <td>2</td>\n",
       "      <td>7</td>\n",
       "      <td>0</td>\n",
       "      <td>0</td>\n",
       "      <td>0</td>\n",
       "      <td>1</td>\n",
       "      <td>0</td>\n",
       "      <td>0</td>\n",
       "      <td>0</td>\n",
       "      <td>1</td>\n",
       "      <td>0</td>\n",
       "      <td>0</td>\n",
       "      <td>56</td>\n",
       "      <td>1</td>\n",
       "      <td>11</td>\n",
       "      <td>1</td>\n",
       "      <td>3</td>\n",
       "      <td>2014</td>\n",
       "      <td>4</td>\n",
       "      <td>11</td>\n",
       "      <td>10.388195</td>\n",
       "      <td>0</td>\n",
       "      <td>0</td>\n",
       "      <td>0</td>\n",
       "      <td>0</td>\n",
       "      <td>0</td>\n",
       "      <td>0</td>\n",
       "      <td>0</td>\n",
       "      <td>1</td>\n",
       "      <td>0</td>\n",
       "      <td>0</td>\n",
       "    </tr>\n",
       "    <tr>\n",
       "      <th>4</th>\n",
       "      <td>1989</td>\n",
       "      <td>21474.0</td>\n",
       "      <td>1</td>\n",
       "      <td>0</td>\n",
       "      <td>0</td>\n",
       "      <td>6</td>\n",
       "      <td>16</td>\n",
       "      <td>24</td>\n",
       "      <td>11</td>\n",
       "      <td>0</td>\n",
       "      <td>34</td>\n",
       "      <td>2</td>\n",
       "      <td>3</td>\n",
       "      <td>1</td>\n",
       "      <td>2</td>\n",
       "      <td>7</td>\n",
       "      <td>0</td>\n",
       "      <td>0</td>\n",
       "      <td>0</td>\n",
       "      <td>1</td>\n",
       "      <td>0</td>\n",
       "      <td>0</td>\n",
       "      <td>0</td>\n",
       "      <td>0</td>\n",
       "      <td>1</td>\n",
       "      <td>0</td>\n",
       "      <td>34</td>\n",
       "      <td>1</td>\n",
       "      <td>91</td>\n",
       "      <td>1</td>\n",
       "      <td>6</td>\n",
       "      <td>2014</td>\n",
       "      <td>3</td>\n",
       "      <td>8</td>\n",
       "      <td>9.974598</td>\n",
       "      <td>3094</td>\n",
       "      <td>91</td>\n",
       "      <td>0</td>\n",
       "      <td>34</td>\n",
       "      <td>0</td>\n",
       "      <td>0</td>\n",
       "      <td>0</td>\n",
       "      <td>1</td>\n",
       "      <td>0</td>\n",
       "      <td>1</td>\n",
       "    </tr>\n",
       "  </tbody>\n",
       "</table>\n",
       "</div>"
      ],
      "text/plain": [
       "   Year_Birth   Income  Kidhome  Teenhome  Recency  MntWines  MntFruits  \\\n",
       "0        1970  84835.0        0         0        0       189        104   \n",
       "1        1961  57091.0        0         0        0       464          5   \n",
       "2        1958  67267.0        0         1        0       134         11   \n",
       "3        1967  32474.0        1         1        0        10          0   \n",
       "4        1989  21474.0        1         0        0         6         16   \n",
       "\n",
       "   MntMeatProducts  MntFishProducts  MntSweetProducts  MntGoldProds  \\\n",
       "0              379              111               189           218   \n",
       "1               64                7                 0            37   \n",
       "2               59               15                 2            30   \n",
       "3                1                0                 0             0   \n",
       "4               24               11                 0            34   \n",
       "\n",
       "   NumDealsPurchases  NumWebPurchases  NumCatalogPurchases  NumStorePurchases  \\\n",
       "0                  1                4                    4                  6   \n",
       "1                  1                7                    3                  7   \n",
       "2                  1                3                    2                  5   \n",
       "3                  1                1                    0                  2   \n",
       "4                  2                3                    1                  2   \n",
       "\n",
       "   NumWebVisitsMonth  Complain  Income_imp  Education_Basic  \\\n",
       "0                  1         0           0                0   \n",
       "1                  5         0           0                0   \n",
       "2                  2         0           0                0   \n",
       "3                  7         0           0                0   \n",
       "4                  7         0           0                0   \n",
       "\n",
       "   Education_Graduation  Education_Master  Education_PhD  \\\n",
       "0                     1                 0              0   \n",
       "1                     1                 0              0   \n",
       "2                     1                 0              0   \n",
       "3                     1                 0              0   \n",
       "4                     1                 0              0   \n",
       "\n",
       "   Marital_Status_Divorced  Marital_Status_Married  Marital_Status_Single  \\\n",
       "0                        1                       0                      0   \n",
       "1                        0                       0                      1   \n",
       "2                        0                       1                      0   \n",
       "3                        0                       1                      0   \n",
       "4                        0                       0                      1   \n",
       "\n",
       "   Marital_Status_Widow  Age  Child  MntTotal  Recency_u50  TotalPurchses  \\\n",
       "0                     0   53      0      1190            1             14   \n",
       "1                     0   62      0       577            1             17   \n",
       "2                     0   65      1       251            1             10   \n",
       "3                     0   56      1        11            1              3   \n",
       "4                     0   34      1        91            1              6   \n",
       "\n",
       "   Enr_year  Enr_quarter  Enr_month  Log_Income  Interaction_1  Interaction_2  \\\n",
       "0      2014            2          6   11.348463         259420           4760   \n",
       "1      2014            2          6   10.952402          21349           1731   \n",
       "2      2014            2          5   11.116425           7530            502   \n",
       "3      2014            4         11   10.388195              0              0   \n",
       "4      2014            3          8    9.974598           3094             91   \n",
       "\n",
       "   Interaction_3  Interaction_4  Interaction_5  Interaction_6  Tree_1  Tree_2  \\\n",
       "0              0            872              0              0       0       0   \n",
       "1              0            111              0              0       0       1   \n",
       "2              0             60              0              0       0       1   \n",
       "3              0              0              0              0       0       1   \n",
       "4              0             34              0              0       0       1   \n",
       "\n",
       "   Tree_3  Response  \n",
       "0       0         1  \n",
       "1       0         1  \n",
       "2       0         0  \n",
       "3       0         0  \n",
       "4       0         1  "
      ]
     },
     "execution_count": 12,
     "metadata": {},
     "output_type": "execute_result"
    }
   ],
   "source": [
    "import boto3\n",
    "import pandas as pd\n",
    "import numpy as np\n",
    "import matplotlib.pyplot as plt\n",
    "import seaborn as sns\n",
    "\n",
    "from precision_recall_cutoff import precision_recall_cutoff\n",
    "\n",
    "from tqdm import tqdm\n",
    "from scipy.stats import boxcox\n",
    "from sklearn.model_selection import train_test_split, GridSearchCV, RandomizedSearchCV\n",
    "from sklearn.tree import DecisionTreeClassifier, plot_tree\n",
    "from sklearn.ensemble import RandomForestClassifier, AdaBoostClassifier, GradientBoostingClassifier \n",
    "from xgboost import XGBClassifier\n",
    "from sklearn.metrics import classification_report, recall_score\n",
    "from sklearn.feature_selection import RFE, RFECV\n",
    "\n",
    "pd.set_option('display.max_columns', 50)\n",
    "\n",
    "store_final = pd.read_csv('store_final.csv')\n",
    "store_final.head()"
   ]
  },
  {
   "cell_type": "markdown",
   "id": "7d3e077f-c6c7-4b27-94fb-1a7bb635ed9f",
   "metadata": {},
   "source": [
    "# Hyper-Parameter Tuning #"
   ]
  },
  {
   "cell_type": "code",
   "execution_count": 13,
   "id": "f7b26fac-ed3d-4a44-a7b9-74112778dab9",
   "metadata": {
    "tags": []
   },
   "outputs": [],
   "source": [
    "#defining input (top 8) and target (Response)\n",
    "x=store_final[['Recency', 'MntTotal', 'Interaction_2', 'Enr_year', 'MntWines', 'Interaction_4', 'MntMeatProducts', 'NumWebVisitsMonth']]\n",
    "y=store_final['Response']\n",
    "\n",
    "#splitting the data\n",
    "x_train,x_test,y_train,y_test = train_test_split(x,y,test_size=0.2,stratify=y)"
   ]
  },
  {
   "cell_type": "code",
   "execution_count": 14,
   "id": "56eb5a14-95db-4b9f-a24b-16a54511fe62",
   "metadata": {
    "tags": []
   },
   "outputs": [],
   "source": [
    "#defining top 6 and 7 variable dataframes for x_train and x_test\n",
    "x_train_7 = x_train.drop(columns = 'NumWebVisitsMonth')\n",
    "x_test_7 = x_test.drop(columns = 'NumWebVisitsMonth')\n",
    "\n",
    "x_train_6 = x_train_7.drop(columns = 'MntMeatProducts')\n",
    "x_test_6 = x_test_7.drop(columns = 'MntMeatProducts')"
   ]
  },
  {
   "cell_type": "markdown",
   "id": "94237a8c-76c1-49eb-9708-5d5eb47fd56c",
   "metadata": {},
   "source": [
    "**Decision Tree**"
   ]
  },
  {
   "cell_type": "markdown",
   "id": "7e334b80-849f-421b-9ed8-5ded93b63814",
   "metadata": {},
   "source": [
    "*top 8 features*"
   ]
  },
  {
   "cell_type": "code",
   "execution_count": 15,
   "id": "9857e0f0-e422-4442-a8bd-291554308a3c",
   "metadata": {
    "tags": []
   },
   "outputs": [
    {
     "data": {
      "text/plain": [
       "{'max_depth': 7, 'min_samples_leaf': 5, 'min_samples_split': 10}"
      ]
     },
     "execution_count": 15,
     "metadata": {},
     "output_type": "execute_result"
    }
   ],
   "source": [
    "#defining parameter dictionary\n",
    "dt_param_grid = {'min_samples_split': [10, 15],\n",
    "                 'min_samples_leaf': [5, 7],\n",
    "                 'max_depth': [3, 5, 7]}\n",
    "\n",
    "#running GridSearchCV\n",
    "dt_grid_search = GridSearchCV(estimator = DecisionTreeClassifier(), \n",
    "                               param_grid = dt_param_grid, \n",
    "                               cv = 3, \n",
    "                               scoring = 'recall',\n",
    "                               n_jobs = -1).fit(x_train, y_train)\n",
    "\n",
    "#extracting best hyperparameter combination\n",
    "dt_grid_search.best_params_"
   ]
  },
  {
   "cell_type": "code",
   "execution_count": 16,
   "id": "88ed85d7-bc1a-4031-bd6f-afb8ca964c99",
   "metadata": {
    "tags": []
   },
   "outputs": [
    {
     "name": "stdout",
     "output_type": "stream",
     "text": [
      "              precision    recall  f1-score   support\n",
      "\n",
      "           0       0.86      0.72      0.79       382\n",
      "           1       0.76      0.88      0.82       381\n",
      "\n",
      "    accuracy                           0.80       763\n",
      "   macro avg       0.81      0.80      0.80       763\n",
      "weighted avg       0.81      0.80      0.80       763\n",
      "\n",
      "recall: 0.884514435695538\n"
     ]
    }
   ],
   "source": [
    "#building the model with best hyperparameters\n",
    "dt_md = DecisionTreeClassifier(min_samples_split = 10, min_samples_leaf = 5, max_depth = 7).fit(x_train, y_train)\n",
    "\n",
    "#predicting on test\n",
    "dt_pred = dt_md.predict_proba(x_test)[:,1]\n",
    "\n",
    "#changing likelihood to labels\n",
    "dt_label = precision_recall_cutoff(y_test, dt_pred)\n",
    "\n",
    "#print classification report\n",
    "print(classification_report(y_test, dt_label))\n",
    "print('recall:',recall_score(y_test, dt_label))"
   ]
  },
  {
   "cell_type": "markdown",
   "id": "0ff29c60-e230-42fb-8f7f-ef40ad9186a0",
   "metadata": {},
   "source": [
    "*top 7 features*"
   ]
  },
  {
   "cell_type": "code",
   "execution_count": 17,
   "id": "8c1712a6-f865-4383-83fc-5c354d305113",
   "metadata": {
    "tags": []
   },
   "outputs": [
    {
     "data": {
      "text/plain": [
       "{'max_depth': 7, 'min_samples_leaf': 5, 'min_samples_split': 10}"
      ]
     },
     "execution_count": 17,
     "metadata": {},
     "output_type": "execute_result"
    }
   ],
   "source": [
    "#defining parameter dictionary\n",
    "dt_param_grid = {'min_samples_split': [10, 15],\n",
    "                 'min_samples_leaf': [5, 7],\n",
    "                 'max_depth': [3, 5, 7]}\n",
    "\n",
    "#running GridSearchCV\n",
    "dt_grid_search = GridSearchCV(estimator = DecisionTreeClassifier(), \n",
    "                               param_grid = dt_param_grid, \n",
    "                               cv = 3, \n",
    "                               scoring = 'recall',\n",
    "                               n_jobs = -1).fit(x_train_7, y_train)\n",
    "\n",
    "#extracting best hyperparameter combination\n",
    "dt_grid_search.best_params_"
   ]
  },
  {
   "cell_type": "code",
   "execution_count": 18,
   "id": "0895b5ce-7c8e-4d18-8b0a-6d159caafed6",
   "metadata": {
    "tags": []
   },
   "outputs": [
    {
     "name": "stdout",
     "output_type": "stream",
     "text": [
      "              precision    recall  f1-score   support\n",
      "\n",
      "           0       0.84      0.71      0.77       382\n",
      "           1       0.75      0.86      0.80       381\n",
      "\n",
      "    accuracy                           0.79       763\n",
      "   macro avg       0.79      0.79      0.78       763\n",
      "weighted avg       0.79      0.79      0.78       763\n",
      "\n",
      "recall: 0.8608923884514436\n"
     ]
    }
   ],
   "source": [
    "#building the model with best hyperparameters\n",
    "dt_md = DecisionTreeClassifier(min_samples_split = 10, min_samples_leaf = 5, max_depth = 7).fit(x_train_7, y_train)\n",
    "\n",
    "#predicting on test\n",
    "dt_pred = dt_md.predict_proba(x_test_7)[:,1]\n",
    "\n",
    "#changing likelihood to labels\n",
    "dt_label = precision_recall_cutoff(y_test, dt_pred)\n",
    "\n",
    "#print classification report\n",
    "print(classification_report(y_test, dt_label))\n",
    "print('recall:',recall_score(y_test, dt_label))"
   ]
  },
  {
   "cell_type": "markdown",
   "id": "712a75ca-7397-453a-a1d7-4c43772c9f37",
   "metadata": {},
   "source": [
    "*top 6 features*"
   ]
  },
  {
   "cell_type": "code",
   "execution_count": 19,
   "id": "fc4ab21f-dd25-4158-b2f7-a9eeaece4bb5",
   "metadata": {
    "tags": []
   },
   "outputs": [
    {
     "data": {
      "text/plain": [
       "{'max_depth': 7, 'min_samples_leaf': 5, 'min_samples_split': 10}"
      ]
     },
     "execution_count": 19,
     "metadata": {},
     "output_type": "execute_result"
    }
   ],
   "source": [
    "#defining parameter dictionary\n",
    "dt_param_grid = {'min_samples_split': [10, 15],\n",
    "                 'min_samples_leaf': [5, 7],\n",
    "                 'max_depth': [3, 5, 7]}\n",
    "\n",
    "#running GridSearchCV\n",
    "dt_grid_search = GridSearchCV(estimator = DecisionTreeClassifier(), \n",
    "                               param_grid = dt_param_grid, \n",
    "                               cv = 3, \n",
    "                               scoring = 'recall',\n",
    "                               n_jobs = -1).fit(x_train_6, y_train)\n",
    "\n",
    "#extracting best hyperparameter combination\n",
    "dt_grid_search.best_params_"
   ]
  },
  {
   "cell_type": "code",
   "execution_count": 20,
   "id": "8d0eddd3-55ed-47ce-b355-521ae30f1e1b",
   "metadata": {
    "tags": []
   },
   "outputs": [
    {
     "name": "stdout",
     "output_type": "stream",
     "text": [
      "              precision    recall  f1-score   support\n",
      "\n",
      "           0       0.83      0.76      0.79       382\n",
      "           1       0.78      0.84      0.81       381\n",
      "\n",
      "    accuracy                           0.80       763\n",
      "   macro avg       0.80      0.80      0.80       763\n",
      "weighted avg       0.80      0.80      0.80       763\n",
      "\n",
      "recall: 0.84251968503937\n"
     ]
    }
   ],
   "source": [
    "#building the model with best hyperparameters\n",
    "dt_md = DecisionTreeClassifier(min_samples_split = 10, min_samples_leaf = 5, max_depth = 7).fit(x_train_6, y_train)\n",
    "\n",
    "#predicting on test\n",
    "dt_pred = dt_md.predict_proba(x_test_6)[:,1]\n",
    "\n",
    "#changing likelihood to labels\n",
    "dt_label = precision_recall_cutoff(y_test, dt_pred)\n",
    "\n",
    "#print classification report\n",
    "print(classification_report(y_test, dt_label))\n",
    "print('recall:',recall_score(y_test, dt_label))"
   ]
  },
  {
   "cell_type": "markdown",
   "id": "4ebd5350-9c4e-4262-a904-d386e177b3b5",
   "metadata": {},
   "source": [
    "________\n",
    "Best model: top 8 features with {'max_depth': 7, 'min_samples_leaf': 5, 'min_samples_split': 10}"
   ]
  },
  {
   "cell_type": "markdown",
   "id": "2386c061-731e-4a2e-9ae4-5bc9860c4ef5",
   "metadata": {},
   "source": [
    "**Random Forest**"
   ]
  },
  {
   "cell_type": "markdown",
   "id": "f53aeabd-cb11-4159-9459-9c9f7aa53003",
   "metadata": {},
   "source": [
    "*top 8 features*"
   ]
  },
  {
   "cell_type": "code",
   "execution_count": 25,
   "id": "01213e6f-2526-4356-8742-8c0197e16ca8",
   "metadata": {
    "tags": []
   },
   "outputs": [
    {
     "data": {
      "text/plain": [
       "{'max_depth': 7,\n",
       " 'min_samples_leaf': 5,\n",
       " 'min_samples_split': 10,\n",
       " 'n_estimators': 300}"
      ]
     },
     "execution_count": 25,
     "metadata": {},
     "output_type": "execute_result"
    }
   ],
   "source": [
    "#defining parameter dictionary\n",
    "rf_param_grid = {'n_estimators': [100, 300, 500],\n",
    "                 'min_samples_split': [10, 15],\n",
    "                 'min_samples_leaf': [5, 7],\n",
    "                 'max_depth' : [3, 5, 7]}\n",
    "\n",
    "#running GridSearchCV\n",
    "rf_grid_search = GridSearchCV(estimator = RandomForestClassifier(), param_grid = rf_param_grid, \n",
    "                              cv = 3, scoring = 'recall').fit(x_train,y_train)\n",
    "\n",
    "#extracting best hyperparameter combination\n",
    "rf_grid_search.best_params_"
   ]
  },
  {
   "cell_type": "code",
   "execution_count": 26,
   "id": "85a2a427-fe51-476b-966c-db1d44d4be44",
   "metadata": {
    "tags": []
   },
   "outputs": [
    {
     "name": "stdout",
     "output_type": "stream",
     "text": [
      "              precision    recall  f1-score   support\n",
      "\n",
      "           0       0.88      0.84      0.86       382\n",
      "           1       0.85      0.88      0.87       381\n",
      "\n",
      "    accuracy                           0.86       763\n",
      "   macro avg       0.86      0.86      0.86       763\n",
      "weighted avg       0.86      0.86      0.86       763\n",
      "\n",
      "recall: 0.884514435695538\n"
     ]
    }
   ],
   "source": [
    "#building the model with best hyperparameters\n",
    "rf_md = RandomForestClassifier(**rf_grid_search.best_params_).fit(x_train,y_train)\n",
    "\n",
    "#predicting on test\n",
    "rf_pred = rf_md.predict_proba(x_test)[:,1]\n",
    "\n",
    "#changing likelihood to labels\n",
    "rf_label = precision_recall_cutoff(y_test, rf_pred)\n",
    "\n",
    "#print classification report\n",
    "print(classification_report(y_test,rf_label))\n",
    "print('recall:',recall_score(y_test, rf_label))"
   ]
  },
  {
   "cell_type": "markdown",
   "id": "3b41a522-3092-4a36-a7b8-ded7d54e437a",
   "metadata": {},
   "source": [
    "*top 7 features*"
   ]
  },
  {
   "cell_type": "code",
   "execution_count": 27,
   "id": "1b4b48be-df31-4ea0-b57f-8329d398a3ab",
   "metadata": {
    "tags": []
   },
   "outputs": [
    {
     "data": {
      "text/plain": [
       "{'max_depth': 7,\n",
       " 'min_samples_leaf': 5,\n",
       " 'min_samples_split': 15,\n",
       " 'n_estimators': 500}"
      ]
     },
     "execution_count": 27,
     "metadata": {},
     "output_type": "execute_result"
    }
   ],
   "source": [
    "#defining parameter dictionary\n",
    "rf_param_grid = {'n_estimators': [100, 300, 500],\n",
    "                 'min_samples_split': [10, 15],\n",
    "                 'min_samples_leaf': [5, 7],\n",
    "                 'max_depth' : [3, 5, 7]}\n",
    "\n",
    "#running GridSearchCV\n",
    "rf_grid_search = GridSearchCV(estimator = RandomForestClassifier(), param_grid = rf_param_grid, \n",
    "                              cv = 3, scoring = 'recall').fit(x_train_7,y_train)\n",
    "\n",
    "#extracting best hyperparameter combination\n",
    "rf_grid_search.best_params_"
   ]
  },
  {
   "cell_type": "code",
   "execution_count": 28,
   "id": "f0532685-d347-4891-8992-725b4c8ec093",
   "metadata": {
    "tags": []
   },
   "outputs": [
    {
     "name": "stdout",
     "output_type": "stream",
     "text": [
      "              precision    recall  f1-score   support\n",
      "\n",
      "           0       0.87      0.83      0.85       382\n",
      "           1       0.84      0.87      0.86       381\n",
      "\n",
      "    accuracy                           0.85       763\n",
      "   macro avg       0.85      0.85      0.85       763\n",
      "weighted avg       0.85      0.85      0.85       763\n",
      "\n",
      "recall: 0.8740157480314961\n"
     ]
    }
   ],
   "source": [
    "#building the model with best hyperparameters\n",
    "rf_md = RandomForestClassifier(**rf_grid_search.best_params_).fit(x_train_7,y_train)\n",
    "\n",
    "#predicting on test\n",
    "rf_pred = rf_md.predict_proba(x_test_7)[:,1]\n",
    "\n",
    "#changing likelihood to labels\n",
    "rf_label = precision_recall_cutoff(y_test, rf_pred)\n",
    "\n",
    "#print classification report\n",
    "print(classification_report(y_test,rf_label))\n",
    "print('recall:',recall_score(y_test, rf_label))"
   ]
  },
  {
   "cell_type": "markdown",
   "id": "38b85fe9-9e88-4a20-ab20-134fbabf2d2f",
   "metadata": {},
   "source": [
    "*top 6 features*"
   ]
  },
  {
   "cell_type": "code",
   "execution_count": 29,
   "id": "a0ebb572-0600-4e12-b540-16db71504eb1",
   "metadata": {
    "tags": []
   },
   "outputs": [
    {
     "data": {
      "text/plain": [
       "{'max_depth': 7,\n",
       " 'min_samples_leaf': 5,\n",
       " 'min_samples_split': 10,\n",
       " 'n_estimators': 300}"
      ]
     },
     "execution_count": 29,
     "metadata": {},
     "output_type": "execute_result"
    }
   ],
   "source": [
    "#defining parameter dictionary\n",
    "rf_param_grid = {'n_estimators': [100, 300, 500],\n",
    "                 'min_samples_split': [10, 15],\n",
    "                 'min_samples_leaf': [5, 7],\n",
    "                 'max_depth' : [3, 5, 7]}\n",
    "\n",
    "#running GridSearchCV\n",
    "rf_grid_search = GridSearchCV(estimator = RandomForestClassifier(), param_grid = rf_param_grid, \n",
    "                              cv = 3, scoring = 'recall').fit(x_train_6,y_train)\n",
    "\n",
    "#extracting best hyperparameter combination\n",
    "rf_grid_search.best_params_"
   ]
  },
  {
   "cell_type": "code",
   "execution_count": 30,
   "id": "aae49712-d221-4ca9-90eb-b007142434fa",
   "metadata": {
    "tags": []
   },
   "outputs": [
    {
     "name": "stdout",
     "output_type": "stream",
     "text": [
      "              precision    recall  f1-score   support\n",
      "\n",
      "           0       0.88      0.83      0.85       382\n",
      "           1       0.84      0.89      0.86       381\n",
      "\n",
      "    accuracy                           0.86       763\n",
      "   macro avg       0.86      0.86      0.86       763\n",
      "weighted avg       0.86      0.86      0.86       763\n",
      "\n",
      "recall: 0.889763779527559\n"
     ]
    }
   ],
   "source": [
    "#building the model with best hyperparameters\n",
    "rf_md = RandomForestClassifier(**rf_grid_search.best_params_).fit(x_train_6,y_train)\n",
    "\n",
    "#predicting on test\n",
    "rf_pred = rf_md.predict_proba(x_test_6)[:,1]\n",
    "\n",
    "#changing likelihood to labels\n",
    "rf_label = precision_recall_cutoff(y_test, rf_pred)\n",
    "\n",
    "#print classification report\n",
    "print(classification_report(y_test,rf_label))\n",
    "print('recall:',recall_score(y_test, rf_label))"
   ]
  },
  {
   "cell_type": "markdown",
   "id": "42ed4bbf-fd26-4a85-9f5a-706bbd461f8a",
   "metadata": {},
   "source": [
    "________\n",
    "Best model: top 6 features with {'max_depth': 7, 'min_samples_leaf': 5, 'min_samples_split': 10, 'n_estimators': 300}"
   ]
  },
  {
   "cell_type": "markdown",
   "id": "519b31f5-2a02-4574-bf35-12cb3093ad10",
   "metadata": {},
   "source": [
    "**AdaBoost**"
   ]
  },
  {
   "cell_type": "markdown",
   "id": "c12e2770-658c-4e4e-9724-818610d1f79a",
   "metadata": {},
   "source": [
    "*top 8 features*"
   ]
  },
  {
   "cell_type": "code",
   "execution_count": 32,
   "id": "8c496356-66d1-46be-a4c1-df6fa474b0f2",
   "metadata": {
    "tags": []
   },
   "outputs": [
    {
     "data": {
      "text/plain": [
       "{'estimator__max_depth': 3,\n",
       " 'estimator__min_samples_leaf': 7,\n",
       " 'estimator__min_samples_split': 10,\n",
       " 'learning_rate': 0.1,\n",
       " 'n_estimators': 300}"
      ]
     },
     "execution_count": 32,
     "metadata": {},
     "output_type": "execute_result"
    }
   ],
   "source": [
    "#defining parameter dictionary\n",
    "ada_param_grid = {'n_estimators': [100, 300, 500],\n",
    "                  'estimator__min_samples_split': [10, 15],\n",
    "                  'estimator__min_samples_leaf': [5, 7],\n",
    "                  'estimator__max_depth': [3, 5, 7],\n",
    "                  'learning_rate': [0.01, 0.1]}\n",
    "\n",
    "#running GridSearchCV\n",
    "ada_grid_search = GridSearchCV(estimator = AdaBoostClassifier(estimator = DecisionTreeClassifier()), \n",
    "                               param_grid = ada_param_grid, \n",
    "                               cv = 3, \n",
    "                               scoring = 'recall',\n",
    "                               n_jobs = -1).fit(x_train, y_train)\n",
    "\n",
    "#extracting best hyperparameter combination\n",
    "ada_grid_search.best_params_"
   ]
  },
  {
   "cell_type": "code",
   "execution_count": 35,
   "id": "dcbd0d30-b6bd-462e-ab87-b347ff119e03",
   "metadata": {
    "tags": []
   },
   "outputs": [
    {
     "name": "stdout",
     "output_type": "stream",
     "text": [
      "              precision    recall  f1-score   support\n",
      "\n",
      "           0       0.96      0.92      0.94       382\n",
      "           1       0.92      0.97      0.94       381\n",
      "\n",
      "    accuracy                           0.94       763\n",
      "   macro avg       0.94      0.94      0.94       763\n",
      "weighted avg       0.94      0.94      0.94       763\n",
      "\n",
      "recall: 0.9658792650918635\n"
     ]
    }
   ],
   "source": [
    "#building the model with best hyperparameters\n",
    "ada_md = AdaBoostClassifier(estimator = DecisionTreeClassifier(min_samples_split = 10, min_samples_leaf = 7, max_depth = 3),\n",
    "                            n_estimators = 300, learning_rate = 0.1).fit(x_train, y_train)\n",
    "\n",
    "#predicting on test\n",
    "ada_pred = ada_md.predict_proba(x_test)[:,1]\n",
    "\n",
    "#changing likelihood to labels\n",
    "ada_label = precision_recall_cutoff(y_test, ada_pred)\n",
    "\n",
    "#print classification report\n",
    "print(classification_report(y_test, ada_label))\n",
    "print('recall:',recall_score(y_test, ada_label))"
   ]
  },
  {
   "cell_type": "markdown",
   "id": "664a9d19-3a00-4c8e-979a-ca3cfaf2c0c8",
   "metadata": {},
   "source": [
    "*top 7 features*"
   ]
  },
  {
   "cell_type": "code",
   "execution_count": 36,
   "id": "e63ad825-8289-467f-bb6d-4bb5c433c9a5",
   "metadata": {
    "tags": []
   },
   "outputs": [
    {
     "data": {
      "text/plain": [
       "{'estimator__max_depth': 3,\n",
       " 'estimator__min_samples_leaf': 5,\n",
       " 'estimator__min_samples_split': 15,\n",
       " 'learning_rate': 0.1,\n",
       " 'n_estimators': 300}"
      ]
     },
     "execution_count": 36,
     "metadata": {},
     "output_type": "execute_result"
    }
   ],
   "source": [
    "#defining parameter dictionary\n",
    "ada_param_grid = {'n_estimators': [100, 300, 500],\n",
    "                  'estimator__min_samples_split': [10, 15],\n",
    "                  'estimator__min_samples_leaf': [5, 7],\n",
    "                  'estimator__max_depth': [3, 5, 7],\n",
    "                  'learning_rate': [0.01, 0.1]}\n",
    "\n",
    "#running GridSearchCV\n",
    "ada_grid_search = GridSearchCV(estimator = AdaBoostClassifier(estimator = DecisionTreeClassifier()), \n",
    "                               param_grid = ada_param_grid, \n",
    "                               cv = 3, \n",
    "                               scoring = 'recall',\n",
    "                               n_jobs = -1).fit(x_train_7, y_train)\n",
    "\n",
    "#extracting best hyperparameter combination\n",
    "ada_grid_search.best_params_"
   ]
  },
  {
   "cell_type": "code",
   "execution_count": 37,
   "id": "bfe62b49-7bbd-4953-9f42-562a1afcbc62",
   "metadata": {
    "tags": []
   },
   "outputs": [
    {
     "name": "stdout",
     "output_type": "stream",
     "text": [
      "              precision    recall  f1-score   support\n",
      "\n",
      "           0       0.96      0.92      0.94       382\n",
      "           1       0.92      0.96      0.94       381\n",
      "\n",
      "    accuracy                           0.94       763\n",
      "   macro avg       0.94      0.94      0.94       763\n",
      "weighted avg       0.94      0.94      0.94       763\n",
      "\n",
      "recall: 0.963254593175853\n"
     ]
    }
   ],
   "source": [
    "#building the model with best hyperparameters\n",
    "ada_md = AdaBoostClassifier(estimator = DecisionTreeClassifier(min_samples_split = 15, min_samples_leaf = 5, max_depth = 3),\n",
    "                            n_estimators = 300, learning_rate = 0.1).fit(x_train_7, y_train)\n",
    "\n",
    "#predicting on test\n",
    "ada_pred = ada_md.predict_proba(x_test_7)[:,1]\n",
    "\n",
    "#changing likelihood to labels\n",
    "ada_label = precision_recall_cutoff(y_test, ada_pred)\n",
    "\n",
    "#print classification report\n",
    "print(classification_report(y_test, ada_label))\n",
    "print('recall:',recall_score(y_test, ada_label))"
   ]
  },
  {
   "cell_type": "markdown",
   "id": "30d55253-3f20-4348-9c8d-65ddc09c1d1f",
   "metadata": {},
   "source": [
    "*top 6 features*"
   ]
  },
  {
   "cell_type": "code",
   "execution_count": 38,
   "id": "9b8d7d00-a1ae-4f7b-9b70-516050ac6f54",
   "metadata": {
    "tags": []
   },
   "outputs": [
    {
     "data": {
      "text/plain": [
       "{'estimator__max_depth': 3,\n",
       " 'estimator__min_samples_leaf': 5,\n",
       " 'estimator__min_samples_split': 10,\n",
       " 'learning_rate': 0.1,\n",
       " 'n_estimators': 300}"
      ]
     },
     "execution_count": 38,
     "metadata": {},
     "output_type": "execute_result"
    }
   ],
   "source": [
    "#defining parameter dictionary\n",
    "ada_param_grid = {'n_estimators': [100, 300, 500],\n",
    "                  'estimator__min_samples_split': [10, 15],\n",
    "                  'estimator__min_samples_leaf': [5, 7],\n",
    "                  'estimator__max_depth': [3, 5, 7],\n",
    "                  'learning_rate': [0.01, 0.1]}\n",
    "\n",
    "#running GridSearchCV\n",
    "ada_grid_search = GridSearchCV(estimator = AdaBoostClassifier(estimator = DecisionTreeClassifier()), \n",
    "                               param_grid = ada_param_grid, \n",
    "                               cv = 3, \n",
    "                               scoring = 'recall',\n",
    "                               n_jobs = -1).fit(x_train_6, y_train)\n",
    "\n",
    "#extracting best hyperparameter combination\n",
    "ada_grid_search.best_params_"
   ]
  },
  {
   "cell_type": "code",
   "execution_count": 39,
   "id": "42e53e41-71d3-4074-a1f3-cefe3e6f074e",
   "metadata": {
    "tags": []
   },
   "outputs": [
    {
     "name": "stdout",
     "output_type": "stream",
     "text": [
      "              precision    recall  f1-score   support\n",
      "\n",
      "           0       0.96      0.91      0.93       382\n",
      "           1       0.91      0.96      0.94       381\n",
      "\n",
      "    accuracy                           0.93       763\n",
      "   macro avg       0.94      0.93      0.93       763\n",
      "weighted avg       0.94      0.93      0.93       763\n",
      "\n",
      "recall: 0.963254593175853\n"
     ]
    }
   ],
   "source": [
    "#building the model with best hyperparameters\n",
    "ada_md = AdaBoostClassifier(estimator = DecisionTreeClassifier(min_samples_split = 10, min_samples_leaf = 5, max_depth = 3),\n",
    "                            n_estimators = 300, learning_rate = 0.1).fit(x_train_6, y_train)\n",
    "\n",
    "#predicting on test\n",
    "ada_pred = ada_md.predict_proba(x_test_6)[:,1]\n",
    "\n",
    "#changing likelihood to labels\n",
    "ada_label = precision_recall_cutoff(y_test, ada_pred)\n",
    "\n",
    "#print classification report\n",
    "print(classification_report(y_test, ada_label))\n",
    "print('recall:',recall_score(y_test, ada_label))"
   ]
  },
  {
   "cell_type": "markdown",
   "id": "ac1ce17b-c44d-4642-9ec2-a86fbb4ef3ac",
   "metadata": {},
   "source": [
    "________\n",
    "Best model: top 8 features with {'estimator__max_depth': 3,'estimator__min_samples_leaf': 7,'estimator__min_samples_split': 10,'learning_rate': 0.1,'n_estimators': 300}"
   ]
  },
  {
   "cell_type": "markdown",
   "id": "8ce2043a-052a-4b25-9b4d-24342505fd8f",
   "metadata": {},
   "source": [
    "**Gradient Boosting**"
   ]
  },
  {
   "cell_type": "markdown",
   "id": "8131990f-2ee6-452d-88cf-7ef285ad741e",
   "metadata": {},
   "source": [
    "*top 8 features*"
   ]
  },
  {
   "cell_type": "code",
   "execution_count": 40,
   "id": "35c4bacb-6ca5-4f47-8f82-22d8b97526bf",
   "metadata": {
    "tags": []
   },
   "outputs": [
    {
     "data": {
      "text/plain": [
       "{'learning_rate': 0.1,\n",
       " 'max_depth': 7,\n",
       " 'min_samples_leaf': 5,\n",
       " 'min_samples_split': 10,\n",
       " 'n_estimators': 100}"
      ]
     },
     "execution_count": 40,
     "metadata": {},
     "output_type": "execute_result"
    }
   ],
   "source": [
    "#defining parameter dictionary\n",
    "gb_param_grid = {'n_estimators': [100, 300, 500],\n",
    "                  'min_samples_split': [10, 15],\n",
    "                  'min_samples_leaf': [5, 7],\n",
    "                  'max_depth': [3, 5, 7],\n",
    "                  'learning_rate': [0.01, 0.1]}\n",
    "\n",
    "#running GridSearchCV\n",
    "gb_grid_search = GridSearchCV(estimator = GradientBoostingClassifier(), \n",
    "                               param_grid = gb_param_grid, \n",
    "                               cv = 3, \n",
    "                               scoring = 'recall',\n",
    "                               n_jobs = -1).fit(x_train, y_train)\n",
    "\n",
    "#extracting best hyperparameter combination\n",
    "gb_grid_search.best_params_"
   ]
  },
  {
   "cell_type": "code",
   "execution_count": 41,
   "id": "e36b8ad8-dd39-4fec-909a-11e8d1b503fb",
   "metadata": {
    "tags": []
   },
   "outputs": [
    {
     "name": "stdout",
     "output_type": "stream",
     "text": [
      "              precision    recall  f1-score   support\n",
      "\n",
      "           0       0.97      0.95      0.96       382\n",
      "           1       0.95      0.97      0.96       381\n",
      "\n",
      "    accuracy                           0.96       763\n",
      "   macro avg       0.96      0.96      0.96       763\n",
      "weighted avg       0.96      0.96      0.96       763\n",
      "\n",
      "recall: 0.973753280839895\n"
     ]
    }
   ],
   "source": [
    "#building the model with best hyperparameters\n",
    "gb_md = GradientBoostingClassifier(**gb_grid_search.best_params_).fit(x_train, y_train)\n",
    "\n",
    "#predicting on test\n",
    "gb_pred = gb_md.predict_proba(x_test)[:,1]\n",
    "\n",
    "#changing likelihood to labels\n",
    "gb_label = precision_recall_cutoff(y_test, gb_pred)\n",
    "\n",
    "#print classification report\n",
    "print(classification_report(y_test, gb_label))\n",
    "print('recall:',recall_score(y_test, gb_label))"
   ]
  },
  {
   "cell_type": "markdown",
   "id": "83668362-fa2f-43a1-91a5-1016050f4465",
   "metadata": {},
   "source": [
    "*top 7 features*"
   ]
  },
  {
   "cell_type": "code",
   "execution_count": 42,
   "id": "333e1b20-211d-47c5-b86b-4f31ec0a894c",
   "metadata": {
    "tags": []
   },
   "outputs": [
    {
     "data": {
      "text/plain": [
       "{'learning_rate': 0.1,\n",
       " 'max_depth': 7,\n",
       " 'min_samples_leaf': 5,\n",
       " 'min_samples_split': 15,\n",
       " 'n_estimators': 500}"
      ]
     },
     "execution_count": 42,
     "metadata": {},
     "output_type": "execute_result"
    }
   ],
   "source": [
    "#defining parameter dictionary\n",
    "gb_param_grid = {'n_estimators': [100, 300, 500],\n",
    "                  'min_samples_split': [10, 15],\n",
    "                  'min_samples_leaf': [5, 7],\n",
    "                  'max_depth': [3, 5, 7],\n",
    "                  'learning_rate': [0.01, 0.1]}\n",
    "\n",
    "#running GridSearchCV\n",
    "gb_grid_search = GridSearchCV(estimator = GradientBoostingClassifier(), \n",
    "                               param_grid = gb_param_grid, \n",
    "                               cv = 3, \n",
    "                               scoring = 'recall',\n",
    "                               n_jobs = -1).fit(x_train_7, y_train)\n",
    "\n",
    "#extracting best hyperparameter combination\n",
    "gb_grid_search.best_params_"
   ]
  },
  {
   "cell_type": "code",
   "execution_count": 43,
   "id": "c2cf62c2-397c-4e6f-a7c0-6f36968bbde1",
   "metadata": {
    "tags": []
   },
   "outputs": [
    {
     "name": "stdout",
     "output_type": "stream",
     "text": [
      "              precision    recall  f1-score   support\n",
      "\n",
      "           0       0.94      0.98      0.96       382\n",
      "           1       0.98      0.93      0.96       381\n",
      "\n",
      "    accuracy                           0.96       763\n",
      "   macro avg       0.96      0.96      0.96       763\n",
      "weighted avg       0.96      0.96      0.96       763\n",
      "\n",
      "recall: 0.9343832020997376\n"
     ]
    }
   ],
   "source": [
    "#building the model with best hyperparameters\n",
    "gb_md = GradientBoostingClassifier(**gb_grid_search.best_params_).fit(x_train_7, y_train)\n",
    "\n",
    "#predicting on test\n",
    "gb_pred = gb_md.predict_proba(x_test_7)[:,1]\n",
    "\n",
    "#changing likelihood to labels\n",
    "gb_label = precision_recall_cutoff(y_test, gb_pred)\n",
    "\n",
    "#print classification report\n",
    "print(classification_report(y_test, gb_label))\n",
    "print('recall:',recall_score(y_test, gb_label))"
   ]
  },
  {
   "cell_type": "markdown",
   "id": "2a573961-fde6-48f3-ac55-d3fea2bb5444",
   "metadata": {},
   "source": [
    "*top 6 features*"
   ]
  },
  {
   "cell_type": "code",
   "execution_count": 46,
   "id": "5cb65db6-7370-4473-839c-590ac648f2b7",
   "metadata": {
    "tags": []
   },
   "outputs": [
    {
     "data": {
      "text/plain": [
       "{'learning_rate': 0.1,\n",
       " 'max_depth': 5,\n",
       " 'min_samples_leaf': 5,\n",
       " 'min_samples_split': 10,\n",
       " 'n_estimators': 300}"
      ]
     },
     "execution_count": 46,
     "metadata": {},
     "output_type": "execute_result"
    }
   ],
   "source": [
    "#defining parameter dictionary\n",
    "gb_param_grid = {'n_estimators': [100, 300, 500],\n",
    "                  'min_samples_split': [10, 15],\n",
    "                  'min_samples_leaf': [5, 7],\n",
    "                  'max_depth': [3, 5, 7],\n",
    "                  'learning_rate': [0.01, 0.1]}\n",
    "\n",
    "#running GridSearchCV\n",
    "gb_grid_search = GridSearchCV(estimator = GradientBoostingClassifier(), \n",
    "                               param_grid = gb_param_grid, \n",
    "                               cv = 3, \n",
    "                               scoring = 'recall',\n",
    "                               n_jobs = -1).fit(x_train_6, y_train)\n",
    "\n",
    "#extracting best hyperparameter combination\n",
    "gb_grid_search.best_params_"
   ]
  },
  {
   "cell_type": "code",
   "execution_count": 47,
   "id": "0209c08a-87c9-4c5f-823a-14c45b3e0f3d",
   "metadata": {
    "tags": []
   },
   "outputs": [
    {
     "name": "stdout",
     "output_type": "stream",
     "text": [
      "              precision    recall  f1-score   support\n",
      "\n",
      "           0       0.96      0.94      0.95       382\n",
      "           1       0.94      0.97      0.95       381\n",
      "\n",
      "    accuracy                           0.95       763\n",
      "   macro avg       0.95      0.95      0.95       763\n",
      "weighted avg       0.95      0.95      0.95       763\n",
      "\n",
      "recall: 0.9658792650918635\n"
     ]
    }
   ],
   "source": [
    "#building the model with best hyperparameters\n",
    "gb_md = GradientBoostingClassifier(**gb_grid_search.best_params_).fit(x_train_6, y_train)\n",
    "\n",
    "#predicting on test\n",
    "gb_pred = gb_md.predict_proba(x_test_6)[:,1]\n",
    "\n",
    "#changing likelihood to labels\n",
    "gb_label = precision_recall_cutoff(y_test, gb_pred)\n",
    "\n",
    "#print classification report\n",
    "print(classification_report(y_test, gb_label))\n",
    "print('recall:',recall_score(y_test, gb_label))"
   ]
  },
  {
   "cell_type": "markdown",
   "id": "be6770c1-ee27-47a4-a552-4b9bdcb4048a",
   "metadata": {},
   "source": [
    "________\n",
    "Best model: top 8 features with \n",
    "{'learning_rate': 0.1,\n",
    " 'max_depth': 7,\n",
    " 'min_samples_leaf': 5,\n",
    " 'min_samples_split': 10,\n",
    " 'n_estimators': 100}"
   ]
  },
  {
   "cell_type": "markdown",
   "id": "de0d9fa4-c2b2-42d9-8603-678ca3fc1759",
   "metadata": {},
   "source": [
    "**XGBoost**"
   ]
  },
  {
   "cell_type": "markdown",
   "id": "82307cea-291d-4935-b502-c18b8fe88283",
   "metadata": {},
   "source": [
    "*top 8 features*"
   ]
  },
  {
   "cell_type": "code",
   "execution_count": 48,
   "id": "84820acd-b540-4705-bb2b-0f2706a70506",
   "metadata": {
    "tags": []
   },
   "outputs": [
    {
     "data": {
      "text/plain": [
       "{'colsample_bytree': 1,\n",
       " 'gamma': 0.1,\n",
       " 'learning_rate': 0.1,\n",
       " 'max_depth': 7,\n",
       " 'min_child_weight': 5,\n",
       " 'n_estimators': 500,\n",
       " 'subsample': 0.8}"
      ]
     },
     "execution_count": 48,
     "metadata": {},
     "output_type": "execute_result"
    }
   ],
   "source": [
    "#defining parameter dictionary\n",
    "xgb_param_grid = {'n_estimators': [100, 300, 500],\n",
    "                  'max_depth': [3, 5, 7],\n",
    "                  'min_child_weight': [5, 7],\n",
    "                  'learning_rate': [0.01, 0.1],\n",
    "                  'gamma': [0.3, 0.1],\n",
    "                  'subsample': [0.8, 1],\n",
    "                  'colsample_bytree': [1]}\n",
    "\n",
    "#running GridSearchCV\n",
    "xgb_grid_search = GridSearchCV(estimator = XGBClassifier(), param_grid = xgb_param_grid, \n",
    "                              cv = 3, scoring = 'recall', n_jobs = -1).fit(x_train,y_train)\n",
    "\n",
    "#extracting best hyperparameter combination\n",
    "xgb_grid_search.best_params_"
   ]
  },
  {
   "cell_type": "code",
   "execution_count": 49,
   "id": "3462811b-02ba-4766-ac0a-5044edd56844",
   "metadata": {
    "tags": []
   },
   "outputs": [
    {
     "name": "stdout",
     "output_type": "stream",
     "text": [
      "              precision    recall  f1-score   support\n",
      "\n",
      "           0       0.98      0.93      0.96       382\n",
      "           1       0.94      0.98      0.96       381\n",
      "\n",
      "    accuracy                           0.96       763\n",
      "   macro avg       0.96      0.96      0.96       763\n",
      "weighted avg       0.96      0.96      0.96       763\n",
      "\n",
      "recall: 0.9816272965879265\n"
     ]
    }
   ],
   "source": [
    "#building the model with best hyperparameters\n",
    "xgb_md = XGBClassifier(**xgb_grid_search.best_params_).fit(x_train, y_train)\n",
    "\n",
    "#predicting on test\n",
    "xgb_pred = xgb_md.predict_proba(x_test)[:,1]\n",
    "\n",
    "#changing likelihood to labels\n",
    "xgb_label = precision_recall_cutoff(y_test, xgb_pred)\n",
    "\n",
    "#print classification report\n",
    "print(classification_report(y_test, xgb_label))\n",
    "print('recall:',recall_score(y_test, xgb_label))"
   ]
  },
  {
   "cell_type": "markdown",
   "id": "3b7dd2ec-4545-45ad-bf2f-bcfa4b903203",
   "metadata": {},
   "source": [
    "*top 7 features*"
   ]
  },
  {
   "cell_type": "code",
   "execution_count": 50,
   "id": "e10cf2c6-90b4-484a-a8c5-df099899ad5c",
   "metadata": {
    "tags": []
   },
   "outputs": [
    {
     "data": {
      "text/plain": [
       "{'colsample_bytree': 1,\n",
       " 'gamma': 0.3,\n",
       " 'learning_rate': 0.1,\n",
       " 'max_depth': 7,\n",
       " 'min_child_weight': 5,\n",
       " 'n_estimators': 500,\n",
       " 'subsample': 0.8}"
      ]
     },
     "execution_count": 50,
     "metadata": {},
     "output_type": "execute_result"
    }
   ],
   "source": [
    "#defining parameter dictionary\n",
    "xgb_param_grid = {'n_estimators': [100, 300, 500],\n",
    "                  'max_depth': [3, 5, 7],\n",
    "                  'min_child_weight': [5, 7],\n",
    "                  'learning_rate': [0.01, 0.1],\n",
    "                  'gamma': [0.3, 0.1],\n",
    "                  'subsample': [0.8, 1],\n",
    "                  'colsample_bytree': [1]}\n",
    "\n",
    "#running GridSearchCV\n",
    "xgb_grid_search = GridSearchCV(estimator = XGBClassifier(), param_grid = xgb_param_grid, \n",
    "                              cv = 3, scoring = 'recall', n_jobs = -1).fit(x_train_7,y_train)\n",
    "\n",
    "#extracting best hyperparameter combination\n",
    "xgb_grid_search.best_params_"
   ]
  },
  {
   "cell_type": "code",
   "execution_count": 51,
   "id": "2a29fa6c-35d9-4d48-9282-2922e74ad73b",
   "metadata": {
    "tags": []
   },
   "outputs": [
    {
     "name": "stdout",
     "output_type": "stream",
     "text": [
      "              precision    recall  f1-score   support\n",
      "\n",
      "           0       0.96      0.95      0.95       382\n",
      "           1       0.95      0.96      0.95       381\n",
      "\n",
      "    accuracy                           0.95       763\n",
      "   macro avg       0.95      0.95      0.95       763\n",
      "weighted avg       0.95      0.95      0.95       763\n",
      "\n",
      "recall: 0.9606299212598425\n"
     ]
    }
   ],
   "source": [
    "#building the model with best hyperparameters\n",
    "xgb_md = XGBClassifier(**xgb_grid_search.best_params_).fit(x_train_7, y_train)\n",
    "\n",
    "#predicting on test\n",
    "xgb_pred = xgb_md.predict_proba(x_test_7)[:,1]\n",
    "\n",
    "#changing likelihood to labels\n",
    "xgb_label = precision_recall_cutoff(y_test, xgb_pred)\n",
    "\n",
    "#print classification report\n",
    "print(classification_report(y_test, xgb_label))\n",
    "print('recall:',recall_score(y_test, xgb_label))"
   ]
  },
  {
   "cell_type": "markdown",
   "id": "7aeab699-0b74-43ec-8bc9-49257dcf5fb2",
   "metadata": {},
   "source": [
    "*top 6 features*"
   ]
  },
  {
   "cell_type": "code",
   "execution_count": 52,
   "id": "ac953024-eff4-4fac-8e36-d079a4b69da2",
   "metadata": {
    "tags": []
   },
   "outputs": [
    {
     "data": {
      "text/plain": [
       "{'colsample_bytree': 1,\n",
       " 'gamma': 0.1,\n",
       " 'learning_rate': 0.1,\n",
       " 'max_depth': 7,\n",
       " 'min_child_weight': 5,\n",
       " 'n_estimators': 500,\n",
       " 'subsample': 0.8}"
      ]
     },
     "execution_count": 52,
     "metadata": {},
     "output_type": "execute_result"
    }
   ],
   "source": [
    "#defining parameter dictionary\n",
    "xgb_param_grid = {'n_estimators': [100, 300, 500],\n",
    "                  'max_depth': [3, 5, 7],\n",
    "                  'min_child_weight': [5, 7],\n",
    "                  'learning_rate': [0.01, 0.1],\n",
    "                  'gamma': [0.3, 0.1],\n",
    "                  'subsample': [0.8, 1],\n",
    "                  'colsample_bytree': [1]}\n",
    "\n",
    "#running GridSearchCV\n",
    "xgb_grid_search = GridSearchCV(estimator = XGBClassifier(), param_grid = xgb_param_grid, \n",
    "                              cv = 3, scoring = 'recall', n_jobs = -1).fit(x_train_6,y_train)\n",
    "\n",
    "#extracting best hyperparameter combination\n",
    "xgb_grid_search.best_params_"
   ]
  },
  {
   "cell_type": "code",
   "execution_count": 54,
   "id": "dca213ae-2726-4bc8-b280-380bcd338306",
   "metadata": {
    "tags": []
   },
   "outputs": [
    {
     "name": "stdout",
     "output_type": "stream",
     "text": [
      "              precision    recall  f1-score   support\n",
      "\n",
      "           0       0.95      0.92      0.93       382\n",
      "           1       0.92      0.95      0.94       381\n",
      "\n",
      "    accuracy                           0.93       763\n",
      "   macro avg       0.93      0.93      0.93       763\n",
      "weighted avg       0.93      0.93      0.93       763\n",
      "\n",
      "recall: 0.9501312335958005\n"
     ]
    }
   ],
   "source": [
    "#building the model with best hyperparameters\n",
    "xgb_md = XGBClassifier(**xgb_grid_search.best_params_).fit(x_train_6, y_train)\n",
    "\n",
    "#predicting on test\n",
    "xgb_pred = xgb_md.predict_proba(x_test_6)[:,1]\n",
    "\n",
    "#changing likelihood to labels\n",
    "xgb_label = precision_recall_cutoff(y_test, xgb_pred)\n",
    "\n",
    "#print classification report\n",
    "print(classification_report(y_test, xgb_label))\n",
    "print('recall:',recall_score(y_test, xgb_label))"
   ]
  },
  {
   "cell_type": "markdown",
   "id": "38b95dc2-e220-498e-a518-6c8d3b47d43d",
   "metadata": {},
   "source": [
    "________\n",
    "Best model: top 8 features with {'colsample_bytree': 1,\n",
    " 'gamma': 0.1,\n",
    " 'learning_rate': 0.1,\n",
    " 'max_depth': 7,\n",
    " 'min_child_weight': 5,\n",
    " 'n_estimators': 500,\n",
    " 'subsample': 0.8}"
   ]
  },
  {
   "cell_type": "code",
   "execution_count": null,
   "id": "7b74278d-9d72-482e-96e8-7a8651531d91",
   "metadata": {},
   "outputs": [],
   "source": []
  }
 ],
 "metadata": {
  "kernelspec": {
   "display_name": "conda_python3",
   "language": "python",
   "name": "conda_python3"
  },
  "language_info": {
   "codemirror_mode": {
    "name": "ipython",
    "version": 3
   },
   "file_extension": ".py",
   "mimetype": "text/x-python",
   "name": "python",
   "nbconvert_exporter": "python",
   "pygments_lexer": "ipython3",
   "version": "3.10.8"
  }
 },
 "nbformat": 4,
 "nbformat_minor": 5
}
