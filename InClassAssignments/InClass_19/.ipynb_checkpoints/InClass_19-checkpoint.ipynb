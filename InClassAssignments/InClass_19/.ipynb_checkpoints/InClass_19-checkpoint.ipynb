{
 "cells": [
  {
   "cell_type": "code",
   "execution_count": 15,
   "id": "a9e7a429-d38a-4f75-a8ab-cd0d5c257cb0",
   "metadata": {
    "tags": []
   },
   "outputs": [
    {
     "name": "stdout",
     "output_type": "stream",
     "text": [
      "Looking in indexes: https://pypi.org/simple, https://pip.repos.neuron.amazonaws.com\n",
      "Requirement already satisfied: xgboost in /home/ec2-user/anaconda3/envs/python3/lib/python3.10/site-packages (1.7.4)\n",
      "Requirement already satisfied: scipy in /home/ec2-user/anaconda3/envs/python3/lib/python3.10/site-packages (from xgboost) (1.10.0)\n",
      "Requirement already satisfied: numpy in /home/ec2-user/anaconda3/envs/python3/lib/python3.10/site-packages (from xgboost) (1.22.3)\n",
      "Note: you may need to restart the kernel to use updated packages.\n"
     ]
    }
   ],
   "source": [
    "pip install xgboost"
   ]
  },
  {
   "cell_type": "code",
   "execution_count": 16,
   "id": "e13b01d6-546b-475b-9da7-b6dafff925c4",
   "metadata": {
    "tags": []
   },
   "outputs": [
    {
     "name": "stdout",
     "output_type": "stream",
     "text": [
      "Looking in indexes: https://pypi.org/simple, https://pip.repos.neuron.amazonaws.com\n",
      "Requirement already satisfied: optuna in /home/ec2-user/anaconda3/envs/python3/lib/python3.10/site-packages (3.1.0)\n",
      "Requirement already satisfied: PyYAML in /home/ec2-user/anaconda3/envs/python3/lib/python3.10/site-packages (from optuna) (5.4.1)\n",
      "Requirement already satisfied: alembic>=1.5.0 in /home/ec2-user/anaconda3/envs/python3/lib/python3.10/site-packages (from optuna) (1.10.2)\n",
      "Requirement already satisfied: cmaes>=0.9.1 in /home/ec2-user/anaconda3/envs/python3/lib/python3.10/site-packages (from optuna) (0.9.1)\n",
      "Requirement already satisfied: sqlalchemy>=1.3.0 in /home/ec2-user/anaconda3/envs/python3/lib/python3.10/site-packages (from optuna) (1.4.46)\n",
      "Requirement already satisfied: colorlog in /home/ec2-user/anaconda3/envs/python3/lib/python3.10/site-packages (from optuna) (6.7.0)\n",
      "Requirement already satisfied: packaging>=20.0 in /home/ec2-user/anaconda3/envs/python3/lib/python3.10/site-packages (from optuna) (21.3)\n",
      "Requirement already satisfied: tqdm in /home/ec2-user/anaconda3/envs/python3/lib/python3.10/site-packages (from optuna) (4.64.1)\n",
      "Requirement already satisfied: numpy in /home/ec2-user/anaconda3/envs/python3/lib/python3.10/site-packages (from optuna) (1.22.3)\n",
      "Requirement already satisfied: Mako in /home/ec2-user/anaconda3/envs/python3/lib/python3.10/site-packages (from alembic>=1.5.0->optuna) (1.2.4)\n",
      "Requirement already satisfied: typing-extensions>=4 in /home/ec2-user/anaconda3/envs/python3/lib/python3.10/site-packages (from alembic>=1.5.0->optuna) (4.4.0)\n",
      "Requirement already satisfied: pyparsing!=3.0.5,>=2.0.2 in /home/ec2-user/anaconda3/envs/python3/lib/python3.10/site-packages (from packaging>=20.0->optuna) (3.0.9)\n",
      "Requirement already satisfied: greenlet!=0.4.17 in /home/ec2-user/anaconda3/envs/python3/lib/python3.10/site-packages (from sqlalchemy>=1.3.0->optuna) (2.0.1)\n",
      "Requirement already satisfied: MarkupSafe>=0.9.2 in /home/ec2-user/anaconda3/envs/python3/lib/python3.10/site-packages (from Mako->alembic>=1.5.0->optuna) (2.1.1)\n",
      "Note: you may need to restart the kernel to use updated packages.\n"
     ]
    }
   ],
   "source": [
    "pip install optuna"
   ]
  },
  {
   "cell_type": "code",
   "execution_count": 17,
   "id": "0173971a-ed71-4567-8072-8d3454c59da9",
   "metadata": {
    "tags": []
   },
   "outputs": [
    {
     "data": {
      "text/html": [
       "<div>\n",
       "<style scoped>\n",
       "    .dataframe tbody tr th:only-of-type {\n",
       "        vertical-align: middle;\n",
       "    }\n",
       "\n",
       "    .dataframe tbody tr th {\n",
       "        vertical-align: top;\n",
       "    }\n",
       "\n",
       "    .dataframe thead th {\n",
       "        text-align: right;\n",
       "    }\n",
       "</style>\n",
       "<table border=\"1\" class=\"dataframe\">\n",
       "  <thead>\n",
       "    <tr style=\"text-align: right;\">\n",
       "      <th></th>\n",
       "      <th>age</th>\n",
       "      <th>sex</th>\n",
       "      <th>bmi</th>\n",
       "      <th>children</th>\n",
       "      <th>smoker</th>\n",
       "      <th>region</th>\n",
       "      <th>charges</th>\n",
       "    </tr>\n",
       "  </thead>\n",
       "  <tbody>\n",
       "    <tr>\n",
       "      <th>0</th>\n",
       "      <td>19</td>\n",
       "      <td>female</td>\n",
       "      <td>27.900</td>\n",
       "      <td>0</td>\n",
       "      <td>yes</td>\n",
       "      <td>southwest</td>\n",
       "      <td>16884.92400</td>\n",
       "    </tr>\n",
       "    <tr>\n",
       "      <th>1</th>\n",
       "      <td>18</td>\n",
       "      <td>male</td>\n",
       "      <td>33.770</td>\n",
       "      <td>1</td>\n",
       "      <td>no</td>\n",
       "      <td>southeast</td>\n",
       "      <td>1725.55230</td>\n",
       "    </tr>\n",
       "    <tr>\n",
       "      <th>2</th>\n",
       "      <td>28</td>\n",
       "      <td>male</td>\n",
       "      <td>33.000</td>\n",
       "      <td>3</td>\n",
       "      <td>no</td>\n",
       "      <td>southeast</td>\n",
       "      <td>4449.46200</td>\n",
       "    </tr>\n",
       "    <tr>\n",
       "      <th>3</th>\n",
       "      <td>33</td>\n",
       "      <td>male</td>\n",
       "      <td>22.705</td>\n",
       "      <td>0</td>\n",
       "      <td>no</td>\n",
       "      <td>northwest</td>\n",
       "      <td>21984.47061</td>\n",
       "    </tr>\n",
       "    <tr>\n",
       "      <th>4</th>\n",
       "      <td>32</td>\n",
       "      <td>male</td>\n",
       "      <td>28.880</td>\n",
       "      <td>0</td>\n",
       "      <td>no</td>\n",
       "      <td>northwest</td>\n",
       "      <td>3866.85520</td>\n",
       "    </tr>\n",
       "  </tbody>\n",
       "</table>\n",
       "</div>"
      ],
      "text/plain": [
       "   age     sex     bmi  children smoker     region      charges\n",
       "0   19  female  27.900         0    yes  southwest  16884.92400\n",
       "1   18    male  33.770         1     no  southeast   1725.55230\n",
       "2   28    male  33.000         3     no  southeast   4449.46200\n",
       "3   33    male  22.705         0     no  northwest  21984.47061\n",
       "4   32    male  28.880         0     no  northwest   3866.85520"
      ]
     },
     "execution_count": 17,
     "metadata": {},
     "output_type": "execute_result"
    }
   ],
   "source": [
    "import boto3\n",
    "import pandas as pd\n",
    "import numpy as np\n",
    "import matplotlib.pyplot as plt\n",
    "import optuna\n",
    "\n",
    "from sklearn.model_selection import train_test_split, KFold\n",
    "from sklearn.tree import DecisionTreeRegressor, plot_tree\n",
    "from sklearn.feature_selection import RFE, RFECV\n",
    "from sklearn.ensemble import RandomForestRegressor\n",
    "from xgboost import XGBRegressor\n",
    "from sklearn.metrics import mean_squared_error\n",
    "\n",
    "#defining the s3 bucket\n",
    "s3 = boto3.resource('s3')\n",
    "bucket_name = 'craig-shaffer-data-445-bucket'\n",
    "bucket = s3.Bucket(bucket_name)\n",
    "\n",
    "#defining the file to be read from s3 bucket\n",
    "file_key = 'insurance.csv'\n",
    "\n",
    "bucket_object = bucket.Object(file_key)\n",
    "file_object = bucket_object.get()\n",
    "file_content_stream = file_object.get('Body')\n",
    "\n",
    "#reading the datafile\n",
    "insurance = pd.read_csv(file_content_stream)\n",
    "insurance.head()"
   ]
  },
  {
   "cell_type": "code",
   "execution_count": 18,
   "id": "715557d9-535d-432b-8b77-ad5169cb06a7",
   "metadata": {
    "tags": []
   },
   "outputs": [
    {
     "data": {
      "text/html": [
       "<div>\n",
       "<style scoped>\n",
       "    .dataframe tbody tr th:only-of-type {\n",
       "        vertical-align: middle;\n",
       "    }\n",
       "\n",
       "    .dataframe tbody tr th {\n",
       "        vertical-align: top;\n",
       "    }\n",
       "\n",
       "    .dataframe thead th {\n",
       "        text-align: right;\n",
       "    }\n",
       "</style>\n",
       "<table border=\"1\" class=\"dataframe\">\n",
       "  <thead>\n",
       "    <tr style=\"text-align: right;\">\n",
       "      <th></th>\n",
       "      <th>age</th>\n",
       "      <th>sex</th>\n",
       "      <th>bmi</th>\n",
       "      <th>children</th>\n",
       "      <th>smoker</th>\n",
       "      <th>charges</th>\n",
       "      <th>region_northeast</th>\n",
       "      <th>region_northwest</th>\n",
       "      <th>region_southeast</th>\n",
       "      <th>region_southwest</th>\n",
       "    </tr>\n",
       "  </thead>\n",
       "  <tbody>\n",
       "    <tr>\n",
       "      <th>0</th>\n",
       "      <td>19</td>\n",
       "      <td>0</td>\n",
       "      <td>27.900</td>\n",
       "      <td>0</td>\n",
       "      <td>1</td>\n",
       "      <td>16884.92400</td>\n",
       "      <td>0</td>\n",
       "      <td>0</td>\n",
       "      <td>0</td>\n",
       "      <td>1</td>\n",
       "    </tr>\n",
       "    <tr>\n",
       "      <th>1</th>\n",
       "      <td>18</td>\n",
       "      <td>1</td>\n",
       "      <td>33.770</td>\n",
       "      <td>1</td>\n",
       "      <td>0</td>\n",
       "      <td>1725.55230</td>\n",
       "      <td>0</td>\n",
       "      <td>0</td>\n",
       "      <td>1</td>\n",
       "      <td>0</td>\n",
       "    </tr>\n",
       "    <tr>\n",
       "      <th>2</th>\n",
       "      <td>28</td>\n",
       "      <td>1</td>\n",
       "      <td>33.000</td>\n",
       "      <td>3</td>\n",
       "      <td>0</td>\n",
       "      <td>4449.46200</td>\n",
       "      <td>0</td>\n",
       "      <td>0</td>\n",
       "      <td>1</td>\n",
       "      <td>0</td>\n",
       "    </tr>\n",
       "    <tr>\n",
       "      <th>3</th>\n",
       "      <td>33</td>\n",
       "      <td>1</td>\n",
       "      <td>22.705</td>\n",
       "      <td>0</td>\n",
       "      <td>0</td>\n",
       "      <td>21984.47061</td>\n",
       "      <td>0</td>\n",
       "      <td>1</td>\n",
       "      <td>0</td>\n",
       "      <td>0</td>\n",
       "    </tr>\n",
       "    <tr>\n",
       "      <th>4</th>\n",
       "      <td>32</td>\n",
       "      <td>1</td>\n",
       "      <td>28.880</td>\n",
       "      <td>0</td>\n",
       "      <td>0</td>\n",
       "      <td>3866.85520</td>\n",
       "      <td>0</td>\n",
       "      <td>1</td>\n",
       "      <td>0</td>\n",
       "      <td>0</td>\n",
       "    </tr>\n",
       "  </tbody>\n",
       "</table>\n",
       "</div>"
      ],
      "text/plain": [
       "   age  sex     bmi  children  smoker      charges  region_northeast  \\\n",
       "0   19    0  27.900         0       1  16884.92400                 0   \n",
       "1   18    1  33.770         1       0   1725.55230                 0   \n",
       "2   28    1  33.000         3       0   4449.46200                 0   \n",
       "3   33    1  22.705         0       0  21984.47061                 0   \n",
       "4   32    1  28.880         0       0   3866.85520                 0   \n",
       "\n",
       "   region_northwest  region_southeast  region_southwest  \n",
       "0                 0                 0                 1  \n",
       "1                 0                 1                 0  \n",
       "2                 0                 1                 0  \n",
       "3                 1                 0                 0  \n",
       "4                 1                 0                 0  "
      ]
     },
     "execution_count": 18,
     "metadata": {},
     "output_type": "execute_result"
    }
   ],
   "source": [
    "#changing labels to numbers\n",
    "insurance['sex'] = np.where(insurance['sex'] == 'female', 0, 1)\n",
    "insurance['smoker'] = np.where(insurance['smoker'] == 'no', 0, 1)\n",
    "#changing region to dummies\n",
    "insurance = pd.concat([insurance.drop(columns=['region'],axis=1), pd.get_dummies(insurance[['region']])],axis=1)\n",
    "insurance.head()"
   ]
  },
  {
   "cell_type": "code",
   "execution_count": 47,
   "id": "f0518052-990e-42d1-ac60-1de912104b1b",
   "metadata": {
    "tags": []
   },
   "outputs": [],
   "source": [
    "insurance['interaction_1'] = np.where((insurance['smoker'] == 0) &\n",
    "                                   (insurance['age'] <= 32.5), 1, 0)\n",
    "insurance['interaction_2'] = np.where((insurance['smoker'] == 0) &\n",
    "                                   (insurance['age'] > 32.5) &\n",
    "                                   (insurance['age'] <= 44.5), 1, 0)\n",
    "insurance['interaction_3'] = np.where((insurance['smoker'] == 0) &\n",
    "                                   (insurance['age'] > 44.5) &\n",
    "                                   (insurance['age'] < 51.5), 1, 0)\n",
    "insurance['interaction_4'] = np.where((insurance['smoker'] == 0) &\n",
    "                                   (insurance['age'] > 51.5), 1, 0)\n",
    "#defining the input and target variables\n",
    "x = insurance.drop(columns = ['charges'], axis = 1)\n",
    "y = insurance['charges']\n",
    "\n",
    "#spliting the data\n",
    "x_train, x_test, y_train, y_test = train_test_split(x, y, test_size = 0.2)"
   ]
  },
  {
   "cell_type": "code",
   "execution_count": 50,
   "id": "c9b0974b-09e6-41dc-9a46-9d2c2fef8f85",
   "metadata": {
    "tags": []
   },
   "outputs": [],
   "source": [
    "x = x_train\n",
    "y = y_train\n",
    "\n",
    "class Objective:\n",
    "    \n",
    "    def __init__(self, seed):\n",
    "        \n",
    "        self.seed = seed\n",
    "        \n",
    "    def __call__(self, trial):\n",
    "        \n",
    "        params = dict(n_estimators = trial.suggest_int('n_estimators', 100, 2000), \n",
    "                      min_samples_split = trial.suggest_int('min_samples_split', 5, 30),\n",
    "                      min_samples_leaf = trial.suggest_int('min_samples_leaf', 5, 30),\n",
    "                      max_depth = trial.suggest_int('max_depth', 2, 10))\n",
    "        \n",
    "        scores = list()\n",
    "        \n",
    "        skf = KFold(n_splits = 3, shuffle = True, random_state = self.seed)\n",
    "        \n",
    "        for train_idx, valid_idx in skf.split(x, y):\n",
    "            \n",
    "            x_train_1, x_valid_1 = x.iloc[train_idx], x.iloc[valid_idx]\n",
    "            y_train_1, y_valid_1 = y.iloc[train_idx], y.iloc[valid_idx]\n",
    "            \n",
    "            rf_md = RandomForestRegressor(**params).fit(x_train_1,y_train_1)\n",
    "            \n",
    "            pred_valid = rf_md.predict(x_valid_1)\n",
    "            \n",
    "            score = mean_squared_error(y_valid_1, pred_valid)\n",
    "            \n",
    "            scores.append(score)\n",
    "            \n",
    "        return np.mean(scores)\n"
   ]
  },
  {
   "cell_type": "code",
   "execution_count": 51,
   "id": "ed750d52-93f0-47aa-9929-befeb143bfe6",
   "metadata": {},
   "outputs": [
    {
     "name": "stderr",
     "output_type": "stream",
     "text": [
      "\u001b[32m[I 2023-03-29 18:24:11,875]\u001b[0m A new study created in memory with name: no-name-4afc25c2-a296-4070-a200-b15e4d521cbd\u001b[0m\n",
      "\u001b[32m[I 2023-03-29 18:24:14,384]\u001b[0m Trial 0 finished with value: 20296035.203546632 and parameters: {'n_estimators': 475, 'min_samples_split': 22, 'min_samples_leaf': 15, 'max_depth': 7}. Best is trial 0 with value: 20296035.203546632.\u001b[0m\n",
      "\u001b[32m[I 2023-03-29 18:24:15,864]\u001b[0m Trial 1 finished with value: 20444497.875332933 and parameters: {'n_estimators': 243, 'min_samples_split': 19, 'min_samples_leaf': 17, 'max_depth': 4}. Best is trial 0 with value: 20296035.203546632.\u001b[0m\n",
      "\u001b[32m[I 2023-03-29 18:24:17,835]\u001b[0m Trial 2 finished with value: 20592353.459554594 and parameters: {'n_estimators': 422, 'min_samples_split': 8, 'min_samples_leaf': 22, 'max_depth': 5}. Best is trial 0 with value: 20296035.203546632.\u001b[0m\n",
      "\u001b[32m[I 2023-03-29 18:24:19,104]\u001b[0m Trial 3 finished with value: 20909691.081865113 and parameters: {'n_estimators': 291, 'min_samples_split': 18, 'min_samples_leaf': 14, 'max_depth': 3}. Best is trial 0 with value: 20296035.203546632.\u001b[0m\n",
      "\u001b[32m[I 2023-03-29 18:24:24,912]\u001b[0m Trial 4 finished with value: 20459999.730737995 and parameters: {'n_estimators': 1231, 'min_samples_split': 17, 'min_samples_leaf': 21, 'max_depth': 6}. Best is trial 0 with value: 20296035.203546632.\u001b[0m\n",
      "\u001b[32m[I 2023-03-29 18:24:33,416]\u001b[0m Trial 5 finished with value: 20845912.731784705 and parameters: {'n_estimators': 1817, 'min_samples_split': 14, 'min_samples_leaf': 23, 'max_depth': 9}. Best is trial 0 with value: 20296035.203546632.\u001b[0m\n",
      "\u001b[32m[I 2023-03-29 18:24:40,731]\u001b[0m Trial 6 finished with value: 20264145.807694834 and parameters: {'n_estimators': 1493, 'min_samples_split': 15, 'min_samples_leaf': 15, 'max_depth': 7}. Best is trial 6 with value: 20264145.807694834.\u001b[0m\n",
      "\u001b[32m[I 2023-03-29 18:24:49,961]\u001b[0m Trial 7 finished with value: 19855384.081857268 and parameters: {'n_estimators': 1700, 'min_samples_split': 15, 'min_samples_leaf': 8, 'max_depth': 10}. Best is trial 7 with value: 19855384.081857268.\u001b[0m\n",
      "\u001b[32m[I 2023-03-29 18:24:53,320]\u001b[0m Trial 8 finished with value: 21788178.548472255 and parameters: {'n_estimators': 721, 'min_samples_split': 19, 'min_samples_leaf': 26, 'max_depth': 8}. Best is trial 7 with value: 19855384.081857268.\u001b[0m\n",
      "\u001b[32m[I 2023-03-29 18:24:54,298]\u001b[0m Trial 9 finished with value: 20496281.76467083 and parameters: {'n_estimators': 204, 'min_samples_split': 8, 'min_samples_leaf': 18, 'max_depth': 5}. Best is trial 7 with value: 19855384.081857268.\u001b[0m\n",
      "\u001b[32m[I 2023-03-29 18:25:04,793]\u001b[0m Trial 10 finished with value: 20293594.526010424 and parameters: {'n_estimators': 1999, 'min_samples_split': 26, 'min_samples_leaf': 5, 'max_depth': 10}. Best is trial 7 with value: 19855384.081857268.\u001b[0m\n",
      "\u001b[32m[I 2023-03-29 18:25:12,942]\u001b[0m Trial 11 finished with value: 19863141.762637105 and parameters: {'n_estimators': 1509, 'min_samples_split': 13, 'min_samples_leaf': 8, 'max_depth': 10}. Best is trial 7 with value: 19855384.081857268.\u001b[0m\n",
      "\u001b[32m[I 2023-03-29 18:25:21,301]\u001b[0m Trial 12 finished with value: 19894070.274080504 and parameters: {'n_estimators': 1521, 'min_samples_split': 11, 'min_samples_leaf': 7, 'max_depth': 10}. Best is trial 7 with value: 19855384.081857268.\u001b[0m\n",
      "\u001b[32m[I 2023-03-29 18:25:27,035]\u001b[0m Trial 13 finished with value: 19965813.92318224 and parameters: {'n_estimators': 1105, 'min_samples_split': 5, 'min_samples_leaf': 10, 'max_depth': 9}. Best is trial 7 with value: 19855384.081857268.\u001b[0m\n",
      "/home/ec2-user/anaconda3/envs/python3/lib/python3.10/site-packages/optuna/samplers/_tpe/_erf.py:132: RuntimeWarning: divide by zero encountered in true_divide\n",
      "  s = one / (x * x)\n",
      "\u001b[32m[I 2023-03-29 18:25:34,846]\u001b[0m Trial 14 finished with value: 20177682.701879304 and parameters: {'n_estimators': 1550, 'min_samples_split': 30, 'min_samples_leaf': 10, 'max_depth': 10}. Best is trial 7 with value: 19855384.081857268.\u001b[0m\n",
      "/home/ec2-user/anaconda3/envs/python3/lib/python3.10/site-packages/optuna/samplers/_tpe/_erf.py:132: RuntimeWarning: divide by zero encountered in true_divide\n",
      "  s = one / (x * x)\n",
      "\u001b[32m[I 2023-03-29 18:25:43,792]\u001b[0m Trial 15 finished with value: 19973070.164397594 and parameters: {'n_estimators': 1720, 'min_samples_split': 12, 'min_samples_leaf': 10, 'max_depth': 8}. Best is trial 7 with value: 19855384.081857268.\u001b[0m\n",
      "\u001b[32m[I 2023-03-29 18:25:50,675]\u001b[0m Trial 16 finished with value: 20239283.20679976 and parameters: {'n_estimators': 1292, 'min_samples_split': 23, 'min_samples_leaf': 5, 'max_depth': 9}. Best is trial 7 with value: 19855384.081857268.\u001b[0m\n",
      "\u001b[32m[I 2023-03-29 18:25:58,693]\u001b[0m Trial 17 finished with value: 24371706.4742316 and parameters: {'n_estimators': 1953, 'min_samples_split': 11, 'min_samples_leaf': 30, 'max_depth': 2}. Best is trial 7 with value: 19855384.081857268.\u001b[0m\n",
      "\u001b[32m[I 2023-03-29 18:26:03,232]\u001b[0m Trial 18 finished with value: 20091492.695499677 and parameters: {'n_estimators': 878, 'min_samples_split': 15, 'min_samples_leaf': 12, 'max_depth': 8}. Best is trial 7 with value: 19855384.081857268.\u001b[0m\n",
      "/home/ec2-user/anaconda3/envs/python3/lib/python3.10/site-packages/optuna/samplers/_tpe/_erf.py:132: RuntimeWarning: divide by zero encountered in true_divide\n",
      "  s = one / (x * x)\n",
      "\u001b[32m[I 2023-03-29 18:26:10,453]\u001b[0m Trial 19 finished with value: 19888238.035572764 and parameters: {'n_estimators': 1342, 'min_samples_split': 9, 'min_samples_leaf': 8, 'max_depth': 10}. Best is trial 7 with value: 19855384.081857268.\u001b[0m\n"
     ]
    }
   ],
   "source": [
    "SEED = 42\n",
    "N_TRIALS = 20\n",
    "\n",
    "#executing optuna\n",
    "study = optuna.create_study(direction = 'minimize')\n",
    "study.optimize(Objective(SEED), n_trials = N_TRIALS)"
   ]
  },
  {
   "cell_type": "code",
   "execution_count": 52,
   "id": "5be89e7f-42bb-471b-a2da-3acd3410d5e2",
   "metadata": {
    "tags": []
   },
   "outputs": [
    {
     "name": "stdout",
     "output_type": "stream",
     "text": [
      "The mse of the RF model is 24514210.987051688\n"
     ]
    }
   ],
   "source": [
    "#building optimized model\n",
    "rf_md = RandomForestRegressor(**study.best_trial.params).fit(x_train,y_train)\n",
    "\n",
    "#predict on test\n",
    "rf_pred = rf_md.predict(x_test)\n",
    "\n",
    "#computing mse\n",
    "rf_mse = mean_squared_error(y_test, rf_pred)\n",
    "print('The mse of the RF model is', rf_mse)"
   ]
  },
  {
   "cell_type": "code",
   "execution_count": 53,
   "id": "0ed293c6-6742-4cc8-8700-1098b1f14824",
   "metadata": {
    "tags": []
   },
   "outputs": [],
   "source": [
    "x = x_train\n",
    "y = y_train\n",
    "\n",
    "class Objective:\n",
    "    \n",
    "    def __init__(self, seed):\n",
    "        \n",
    "        self.seed = seed\n",
    "        \n",
    "    def __call__(self, trial):\n",
    "        \n",
    "        params = dict(n_estimators = trial.suggest_int('n_estimators', 100, 2000),\n",
    "                      max_depth = trial.suggest_int('max_depth', 2, 10),\n",
    "                      min_child_weight = trial.suggest_int('min_child_weight', 2, 20),\n",
    "                      learning_rate = trial.suggest_float('learning_rate', 0.01, 100, log = True),\n",
    "                      gamma = trial.suggest_float('gamma', 0, 10),\n",
    "                      colsample_bytree = trial.suggest_float('colsample_bytree', 0.2, 0.9),\n",
    "                      subsample = trial.suggest_float('subsample', 0.2, 0.9)\n",
    "                      )\n",
    "        \n",
    "        scores = list()\n",
    "        \n",
    "        skf = KFold(n_splits = 3, shuffle = True, random_state = self.seed)\n",
    "        \n",
    "        for train_idx, valid_idx in skf.split(x, y):\n",
    "            \n",
    "            x_train_1, x_valid_1 = x.iloc[train_idx], x.iloc[valid_idx]\n",
    "            y_train_1, y_valid_1 = y.iloc[train_idx], y.iloc[valid_idx]\n",
    "            \n",
    "            xgb_md = XGBRegressor(**params).fit(x_train_1,y_train_1)\n",
    "            \n",
    "            pred_valid = xgb_md.predict(x_valid_1)\n",
    "            \n",
    "            score = mean_squared_error(y_valid_1, pred_valid)\n",
    "            \n",
    "            scores.append(score)\n",
    "            \n",
    "        return np.mean(scores)\n"
   ]
  },
  {
   "cell_type": "code",
   "execution_count": null,
   "id": "e211bb7c-5a41-4e0c-a54e-9b3748056586",
   "metadata": {
    "tags": []
   },
   "outputs": [],
   "source": [
    "#executing optuna\n",
    "study = optuna.create_study(direction = 'minimize')\n",
    "study.optimize(Objective(SEED), n_trials = N_TRIALS)"
   ]
  },
  {
   "cell_type": "code",
   "execution_count": null,
   "id": "2deb6ceb-a565-4e17-9323-17eaec15af22",
   "metadata": {},
   "outputs": [],
   "source": []
  }
 ],
 "metadata": {
  "kernelspec": {
   "display_name": "conda_python3",
   "language": "python",
   "name": "conda_python3"
  },
  "language_info": {
   "codemirror_mode": {
    "name": "ipython",
    "version": 3
   },
   "file_extension": ".py",
   "mimetype": "text/x-python",
   "name": "python",
   "nbconvert_exporter": "python",
   "pygments_lexer": "ipython3",
   "version": "3.10.8"
  }
 },
 "nbformat": 4,
 "nbformat_minor": 5
}
