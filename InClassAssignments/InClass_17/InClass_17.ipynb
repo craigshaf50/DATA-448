{
 "cells": [
  {
   "cell_type": "code",
   "execution_count": 1,
   "id": "2f309c4c-b95b-4d66-8747-0ed12ad50d3c",
   "metadata": {
    "tags": []
   },
   "outputs": [
    {
     "name": "stdout",
     "output_type": "stream",
     "text": [
      "Looking in indexes: https://pypi.org/simple, https://pip.repos.neuron.amazonaws.com\n",
      "Collecting optuna\n",
      "  Downloading optuna-3.1.0-py3-none-any.whl (365 kB)\n",
      "\u001b[2K     \u001b[90m━━━━━━━━━━━━━━━━━━━━━━━━━━━━━━━━━━━━━━\u001b[0m \u001b[32m365.3/365.3 kB\u001b[0m \u001b[31m16.4 MB/s\u001b[0m eta \u001b[36m0:00:00\u001b[0m\n",
      "\u001b[?25hRequirement already satisfied: packaging>=20.0 in /home/ec2-user/anaconda3/envs/python3/lib/python3.10/site-packages (from optuna) (21.3)\n",
      "Collecting alembic>=1.5.0\n",
      "  Downloading alembic-1.10.2-py3-none-any.whl (212 kB)\n",
      "\u001b[2K     \u001b[90m━━━━━━━━━━━━━━━━━━━━━━━━━━━━━━━━━━━━━━\u001b[0m \u001b[32m212.2/212.2 kB\u001b[0m \u001b[31m34.4 MB/s\u001b[0m eta \u001b[36m0:00:00\u001b[0m\n",
      "\u001b[?25hCollecting colorlog\n",
      "  Downloading colorlog-6.7.0-py2.py3-none-any.whl (11 kB)\n",
      "Requirement already satisfied: tqdm in /home/ec2-user/anaconda3/envs/python3/lib/python3.10/site-packages (from optuna) (4.64.1)\n",
      "Requirement already satisfied: numpy in /home/ec2-user/anaconda3/envs/python3/lib/python3.10/site-packages (from optuna) (1.22.3)\n",
      "Requirement already satisfied: sqlalchemy>=1.3.0 in /home/ec2-user/anaconda3/envs/python3/lib/python3.10/site-packages (from optuna) (1.4.46)\n",
      "Requirement already satisfied: PyYAML in /home/ec2-user/anaconda3/envs/python3/lib/python3.10/site-packages (from optuna) (5.4.1)\n",
      "Collecting cmaes>=0.9.1\n",
      "  Downloading cmaes-0.9.1-py3-none-any.whl (21 kB)\n",
      "Collecting Mako\n",
      "  Downloading Mako-1.2.4-py3-none-any.whl (78 kB)\n",
      "\u001b[2K     \u001b[90m━━━━━━━━━━━━━━━━━━━━━━━━━━━━━━━━━━━━━━━━\u001b[0m \u001b[32m78.7/78.7 kB\u001b[0m \u001b[31m22.7 MB/s\u001b[0m eta \u001b[36m0:00:00\u001b[0m\n",
      "\u001b[?25hRequirement already satisfied: typing-extensions>=4 in /home/ec2-user/anaconda3/envs/python3/lib/python3.10/site-packages (from alembic>=1.5.0->optuna) (4.4.0)\n",
      "Requirement already satisfied: pyparsing!=3.0.5,>=2.0.2 in /home/ec2-user/anaconda3/envs/python3/lib/python3.10/site-packages (from packaging>=20.0->optuna) (3.0.9)\n",
      "Requirement already satisfied: greenlet!=0.4.17 in /home/ec2-user/anaconda3/envs/python3/lib/python3.10/site-packages (from sqlalchemy>=1.3.0->optuna) (2.0.1)\n",
      "Requirement already satisfied: MarkupSafe>=0.9.2 in /home/ec2-user/anaconda3/envs/python3/lib/python3.10/site-packages (from Mako->alembic>=1.5.0->optuna) (2.1.1)\n",
      "Installing collected packages: Mako, colorlog, cmaes, alembic, optuna\n",
      "Successfully installed Mako-1.2.4 alembic-1.10.2 cmaes-0.9.1 colorlog-6.7.0 optuna-3.1.0\n",
      "Note: you may need to restart the kernel to use updated packages.\n"
     ]
    }
   ],
   "source": [
    "pip install optuna"
   ]
  },
  {
   "cell_type": "code",
   "execution_count": 8,
   "id": "639a1029-c0bd-478b-aeee-8243684c88ab",
   "metadata": {
    "tags": []
   },
   "outputs": [],
   "source": [
    "import boto3\n",
    "import pandas as pd\n",
    "import numpy as np\n",
    "import matplotlib.pyplot as plt\n",
    "import optuna\n",
    "\n",
    "from cost_function import cost_function\n",
    "\n",
    "from tqdm import tqdm\n",
    "from scipy.stats import boxcox\n",
    "from sklearn.preprocessing import MinMaxScaler\n",
    "from sklearn.model_selection import train_test_split, GridSearchCV, RandomizedSearchCV, StratifiedKFold\n",
    "from sklearn.tree import DecisionTreeClassifier, plot_tree\n",
    "from sklearn.feature_selection import RFE, RFECV\n",
    "from sklearn.ensemble import RandomForestClassifier, AdaBoostClassifier, GradientBoostingClassifier \n",
    "from sklearn.metrics import classification_report, make_scorer, confusion_matrix\n",
    "\n",
    "#reading the data\n",
    "train = pd.read_csv('turnover_train.csv')\n",
    "validation = pd.read_csv('turnover_val.csv')\n",
    "test = pd.read_csv('turnover_test.csv')"
   ]
  },
  {
   "cell_type": "code",
   "execution_count": 9,
   "id": "8bf0b60e-3100-4933-9e96-06806f2766cc",
   "metadata": {
    "tags": []
   },
   "outputs": [],
   "source": [
    "#changing sales and salary to dummies\n",
    "train = pd.concat([train.drop(columns=['sales','salary'],axis=1), pd.get_dummies(train[['sales','salary']])],axis=1)\n",
    "validation = pd.concat([validation.drop(columns=['sales','salary'],axis=1), pd.get_dummies(validation[['sales','salary']])],axis=1)\n",
    "test = pd.concat([test.drop(columns=['sales','salary'],axis=1), pd.get_dummies(test[['sales','salary']])],axis=1)"
   ]
  },
  {
   "cell_type": "code",
   "execution_count": 10,
   "id": "fd64cb18-a1be-4d20-9fe4-a2c5539e08c6",
   "metadata": {
    "tags": []
   },
   "outputs": [],
   "source": [
    "#creating new features from InClass_10\n",
    "train['interaction_1'] = np.where((train['satisfaction_level'] <= 0.465) & \n",
    "                                     (train['number_project'] > 2.5) & \n",
    "                                     (train['satisfaction_level'] >= 0.115), 1, 0)\n",
    "\n",
    "train['interaction_2'] = np.where((train['satisfaction_level'] <= 0.465) & \n",
    "                                     (train['number_project'] <= 2.5) & \n",
    "                                     (train['last_evaluation'] <= 0.575), 1, 0)\n",
    "\n",
    "train['interaction_3'] = np.where((train['satisfaction_level'] > 0.465) & \n",
    "                                     (train['time_spend_company'] <= 4.5) & \n",
    "                                     (train['average_montly_hours'] <= 290.5), 1, 0)\n",
    "\n",
    "validation['interaction_1'] = np.where((validation['satisfaction_level'] <= 0.465) & \n",
    "                                     (validation['number_project'] > 2.5) & \n",
    "                                     (validation['satisfaction_level'] >= 0.115), 1, 0)\n",
    "\n",
    "validation['interaction_2'] = np.where((validation['satisfaction_level'] <= 0.465) & \n",
    "                                     (validation['number_project'] <= 2.5) & \n",
    "                                     (validation['last_evaluation'] <= 0.575), 1, 0)\n",
    "\n",
    "validation['interaction_3'] = np.where((validation['satisfaction_level'] > 0.465) & \n",
    "                                     (validation['time_spend_company'] <= 4.5) & \n",
    "                                     (validation['average_montly_hours'] <= 290.5), 1, 0)\n",
    "\n",
    "test['interaction_1'] = np.where((test['satisfaction_level'] <= 0.465) & \n",
    "                                     (test['number_project'] > 2.5) & \n",
    "                                     (test['satisfaction_level'] >= 0.115), 1, 0)\n",
    "\n",
    "test['interaction_2'] = np.where((test['satisfaction_level'] <= 0.465) & \n",
    "                                     (test['number_project'] <= 2.5) & \n",
    "                                     (test['last_evaluation'] <= 0.575), 1, 0)\n",
    "\n",
    "test['interaction_3'] = np.where((test['satisfaction_level'] > 0.465) & \n",
    "                                     (test['time_spend_company'] <= 4.5) & \n",
    "                                     (test['average_montly_hours'] <= 290.5), 1, 0)"
   ]
  },
  {
   "cell_type": "markdown",
   "id": "ad1cb1b0-00d5-4583-abed-48d1d32cc90d",
   "metadata": {},
   "source": [
    "**Random Forest w/ Optuna**"
   ]
  },
  {
   "cell_type": "code",
   "execution_count": 18,
   "id": "7180f353-8494-4dfd-951a-570b7f263a99",
   "metadata": {
    "tags": []
   },
   "outputs": [],
   "source": [
    "#defining input and target\n",
    "x = train[['satisfaction_level', 'number_project', 'time_spend_company', 'interaction_1', 'interaction_3']]\n",
    "y = train['left']\n",
    "\n",
    "class Objective:\n",
    "    \n",
    "    def __init__(self, seed):\n",
    "        \n",
    "        self.seed = seed\n",
    "        \n",
    "    def __call__(self, trial):\n",
    "        \n",
    "        params = dict(n_estimators = trial.suggest_int('n_estimators', 100, 2000), \n",
    "                      min_samples_split = trial.suggest_int('min_samples_split', 5, 30),\n",
    "                      min_samples_leaf = trial.suggest_int('min_samples_leaf', 5, 30),\n",
    "                      max_depth = trial.suggest_int('max_depth', 2, 10))\n",
    "        \n",
    "        scores = list()\n",
    "        \n",
    "        skf = StratifiedKFold(n_splits = 3, shuffle = True, random_state = self.seed)\n",
    "        \n",
    "        for train_idx, valid_idx in skf.split(x, y):\n",
    "            \n",
    "            x_train, x_valid = x.iloc[train_idx], x.iloc[valid_idx]\n",
    "            y_train, y_valid = y.iloc[train_idx], y.iloc[valid_idx]\n",
    "            \n",
    "            rf_md = RandomForestClassifier(**params).fit(x_train,y_train)\n",
    "            \n",
    "            pred_valid = rf_md.predict_proba(x_valid)[:,1]\n",
    "            \n",
    "            score = cost_function(y_valid, pred_valid)\n",
    "            \n",
    "            scores.append(score[0])\n",
    "            \n",
    "        return np.mean(scores)"
   ]
  },
  {
   "cell_type": "code",
   "execution_count": 13,
   "id": "b56b4e42-f2c8-452a-98a2-c234dfdb1e18",
   "metadata": {
    "tags": []
   },
   "outputs": [
    {
     "name": "stderr",
     "output_type": "stream",
     "text": [
      "\u001b[32m[I 2023-03-24 17:43:58,435]\u001b[0m A new study created in memory with name: no-name-03a2ff26-52be-497f-9040-4e224364938f\u001b[0m\n",
      "\u001b[32m[I 2023-03-24 17:44:16,709]\u001b[0m Trial 0 finished with value: 294666.6666666667 and parameters: {'n_estimators': 1781, 'min_samples_split': 27, 'min_samples_leaf': 5, 'max_depth': 7}. Best is trial 0 with value: 294666.6666666667.\u001b[0m\n",
      "\u001b[32m[I 2023-03-24 17:44:32,268]\u001b[0m Trial 1 finished with value: 290166.6666666667 and parameters: {'n_estimators': 1452, 'min_samples_split': 30, 'min_samples_leaf': 14, 'max_depth': 9}. Best is trial 0 with value: 294666.6666666667.\u001b[0m\n",
      "\u001b[32m[I 2023-03-24 17:44:42,246]\u001b[0m Trial 2 finished with value: 263166.6666666667 and parameters: {'n_estimators': 1045, 'min_samples_split': 9, 'min_samples_leaf': 28, 'max_depth': 6}. Best is trial 0 with value: 294666.6666666667.\u001b[0m\n",
      "\u001b[32m[I 2023-03-24 17:44:51,987]\u001b[0m Trial 3 finished with value: 261666.66666666666 and parameters: {'n_estimators': 1055, 'min_samples_split': 8, 'min_samples_leaf': 19, 'max_depth': 5}. Best is trial 0 with value: 294666.6666666667.\u001b[0m\n",
      "\u001b[32m[I 2023-03-24 17:45:05,714]\u001b[0m Trial 4 finished with value: 273166.6666666667 and parameters: {'n_estimators': 1306, 'min_samples_split': 23, 'min_samples_leaf': 20, 'max_depth': 9}. Best is trial 0 with value: 294666.6666666667.\u001b[0m\n",
      "\u001b[32m[I 2023-03-24 17:45:07,087]\u001b[0m Trial 5 finished with value: 264666.6666666667 and parameters: {'n_estimators': 121, 'min_samples_split': 22, 'min_samples_leaf': 28, 'max_depth': 8}. Best is trial 0 with value: 294666.6666666667.\u001b[0m\n",
      "\u001b[32m[I 2023-03-24 17:45:17,396]\u001b[0m Trial 6 finished with value: 85666.66666666667 and parameters: {'n_estimators': 1383, 'min_samples_split': 11, 'min_samples_leaf': 5, 'max_depth': 2}. Best is trial 0 with value: 294666.6666666667.\u001b[0m\n",
      "\u001b[32m[I 2023-03-24 17:45:27,265]\u001b[0m Trial 7 finished with value: 70166.66666666667 and parameters: {'n_estimators': 1306, 'min_samples_split': 6, 'min_samples_leaf': 5, 'max_depth': 2}. Best is trial 0 with value: 294666.6666666667.\u001b[0m\n",
      "\u001b[32m[I 2023-03-24 17:45:31,553]\u001b[0m Trial 8 finished with value: 291666.6666666667 and parameters: {'n_estimators': 412, 'min_samples_split': 25, 'min_samples_leaf': 11, 'max_depth': 7}. Best is trial 0 with value: 294666.6666666667.\u001b[0m\n",
      "\u001b[32m[I 2023-03-24 17:45:46,130]\u001b[0m Trial 9 finished with value: 220166.66666666666 and parameters: {'n_estimators': 1680, 'min_samples_split': 18, 'min_samples_leaf': 20, 'max_depth': 4}. Best is trial 0 with value: 294666.6666666667.\u001b[0m\n",
      "\u001b[32m[I 2023-03-24 17:46:08,869]\u001b[0m Trial 10 finished with value: 292166.6666666667 and parameters: {'n_estimators': 1991, 'min_samples_split': 28, 'min_samples_leaf': 10, 'max_depth': 10}. Best is trial 0 with value: 294666.6666666667.\u001b[0m\n",
      "\u001b[32m[I 2023-03-24 17:46:31,105]\u001b[0m Trial 11 finished with value: 292166.6666666667 and parameters: {'n_estimators': 1992, 'min_samples_split': 28, 'min_samples_leaf': 10, 'max_depth': 10}. Best is trial 0 with value: 294666.6666666667.\u001b[0m\n",
      "\u001b[32m[I 2023-03-24 17:46:53,397]\u001b[0m Trial 12 finished with value: 291666.6666666667 and parameters: {'n_estimators': 1991, 'min_samples_split': 19, 'min_samples_leaf': 10, 'max_depth': 10}. Best is trial 0 with value: 294666.6666666667.\u001b[0m\n",
      "\u001b[32m[I 2023-03-24 17:47:11,333]\u001b[0m Trial 13 finished with value: 292666.6666666667 and parameters: {'n_estimators': 1744, 'min_samples_split': 14, 'min_samples_leaf': 7, 'max_depth': 7}. Best is trial 0 with value: 294666.6666666667.\u001b[0m\n",
      "\u001b[32m[I 2023-03-24 17:47:28,315]\u001b[0m Trial 14 finished with value: 294666.6666666667 and parameters: {'n_estimators': 1651, 'min_samples_split': 15, 'min_samples_leaf': 5, 'max_depth': 7}. Best is trial 0 with value: 294666.6666666667.\u001b[0m\n",
      "\u001b[32m[I 2023-03-24 17:47:43,545]\u001b[0m Trial 15 finished with value: 270166.6666666667 and parameters: {'n_estimators': 1656, 'min_samples_split': 15, 'min_samples_leaf': 15, 'max_depth': 5}. Best is trial 0 with value: 294666.6666666667.\u001b[0m\n",
      "\u001b[32m[I 2023-03-24 17:47:52,665]\u001b[0m Trial 16 finished with value: 268166.6666666667 and parameters: {'n_estimators': 885, 'min_samples_split': 14, 'min_samples_leaf': 24, 'max_depth': 7}. Best is trial 0 with value: 294666.6666666667.\u001b[0m\n",
      "\u001b[32m[I 2023-03-24 17:48:06,558]\u001b[0m Trial 17 finished with value: 221666.66666666666 and parameters: {'n_estimators': 1587, 'min_samples_split': 19, 'min_samples_leaf': 7, 'max_depth': 4}. Best is trial 0 with value: 294666.6666666667.\u001b[0m\n",
      "\u001b[32m[I 2023-03-24 17:48:13,976]\u001b[0m Trial 18 finished with value: 290166.6666666667 and parameters: {'n_estimators': 683, 'min_samples_split': 22, 'min_samples_leaf': 14, 'max_depth': 8}. Best is trial 0 with value: 294666.6666666667.\u001b[0m\n",
      "\u001b[32m[I 2023-03-24 17:48:32,396]\u001b[0m Trial 19 finished with value: 291166.6666666667 and parameters: {'n_estimators': 1837, 'min_samples_split': 12, 'min_samples_leaf': 7, 'max_depth': 6}. Best is trial 0 with value: 294666.6666666667.\u001b[0m\n"
     ]
    }
   ],
   "source": [
    "SEED = 42\n",
    "N_TRIALS = 20\n",
    "\n",
    "study = optuna.create_study(direction = 'maximize')\n",
    "study.optimize(Objective(SEED), n_trials = N_TRIALS)"
   ]
  },
  {
   "cell_type": "code",
   "execution_count": 15,
   "id": "8edae263-6790-4424-bc8d-d87978aa6fd2",
   "metadata": {
    "tags": []
   },
   "outputs": [
    {
     "data": {
      "text/plain": [
       "{'n_estimators': 1781,\n",
       " 'min_samples_split': 27,\n",
       " 'min_samples_leaf': 5,\n",
       " 'max_depth': 7}"
      ]
     },
     "execution_count": 15,
     "metadata": {},
     "output_type": "execute_result"
    }
   ],
   "source": [
    "study.best_trial.params"
   ]
  },
  {
   "cell_type": "code",
   "execution_count": 22,
   "id": "d536154a-8b68-4bc6-9bde-1a4b9da44205",
   "metadata": {
    "tags": []
   },
   "outputs": [
    {
     "name": "stdout",
     "output_type": "stream",
     "text": [
      "[[1126   17]\n",
      " [  28  329]]\n",
      "The cost of the RF is  105500\n"
     ]
    }
   ],
   "source": [
    "#building the random forest model \n",
    "rf_md = RandomForestClassifier(**study.best_trial.params).fit(x,y)\n",
    "\n",
    "#predict on validation and test\n",
    "x_val = validation[['satisfaction_level', 'number_project', 'time_spend_company', 'interaction_1', 'interaction_3']]\n",
    "y_val = validation['left']\n",
    "x_test = test[['satisfaction_level', 'number_project', 'time_spend_company', 'interaction_1', 'interaction_3']]\n",
    "y_test = test['left']\n",
    "\n",
    "rf_val_pred = rf_md.predict_proba(x_val)[:,1]\n",
    "rf_test_pred = rf_md.predict_proba(x_test)[:,1]\n",
    "\n",
    "#identify optimal cut off\n",
    "opt_cutoff = cost_function(y_val, rf_val_pred)[1]\n",
    "\n",
    "#changing likelihoods to labels\n",
    "rf_label = np.where(rf_test_pred < opt_cutoff, 0, 1)\n",
    "\n",
    "conf_mat = confusion_matrix(y_test, rf_label)\n",
    "print(conf_mat)\n",
    "print('The cost of the RF is ', -1500 * conf_mat[1, 0] - 1000 * conf_mat[0, 1] + 500 * conf_mat[1, 1])"
   ]
  },
  {
   "cell_type": "code",
   "execution_count": null,
   "id": "5a4d35a6-2383-461d-876f-c49cfafc9dbd",
   "metadata": {},
   "outputs": [],
   "source": []
  }
 ],
 "metadata": {
  "kernelspec": {
   "display_name": "conda_python3",
   "language": "python",
   "name": "conda_python3"
  },
  "language_info": {
   "codemirror_mode": {
    "name": "ipython",
    "version": 3
   },
   "file_extension": ".py",
   "mimetype": "text/x-python",
   "name": "python",
   "nbconvert_exporter": "python",
   "pygments_lexer": "ipython3",
   "version": "3.10.8"
  }
 },
 "nbformat": 4,
 "nbformat_minor": 5
}
