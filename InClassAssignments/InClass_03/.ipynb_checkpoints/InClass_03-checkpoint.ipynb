{
 "cells": [
  {
   "cell_type": "code",
   "execution_count": 1,
   "id": "012c1a3f-eab2-44ca-a001-8462773c67b1",
   "metadata": {},
   "outputs": [
    {
     "name": "stdout",
     "output_type": "stream",
     "text": [
      "Looking in indexes: https://pypi.org/simple, https://pip.repos.neuron.amazonaws.com\n",
      "Collecting imblearn\n",
      "  Downloading imblearn-0.0-py2.py3-none-any.whl (1.9 kB)\n",
      "Collecting imbalanced-learn\n",
      "  Downloading imbalanced_learn-0.10.1-py3-none-any.whl (226 kB)\n",
      "\u001b[2K     \u001b[90m━━━━━━━━━━━━━━━━━━━━━━━━━━━━━━━━━━━━━━━\u001b[0m \u001b[32m226.0/226.0 kB\u001b[0m \u001b[31m3.3 MB/s\u001b[0m eta \u001b[36m0:00:00\u001b[0m00:01\u001b[0m\n",
      "\u001b[?25hRequirement already satisfied: threadpoolctl>=2.0.0 in /home/ec2-user/anaconda3/envs/python3/lib/python3.10/site-packages (from imbalanced-learn->imblearn) (3.1.0)\n",
      "Requirement already satisfied: numpy>=1.17.3 in /home/ec2-user/anaconda3/envs/python3/lib/python3.10/site-packages (from imbalanced-learn->imblearn) (1.22.4)\n",
      "Requirement already satisfied: scipy>=1.3.2 in /home/ec2-user/anaconda3/envs/python3/lib/python3.10/site-packages (from imbalanced-learn->imblearn) (1.9.3)\n",
      "Requirement already satisfied: scikit-learn>=1.0.2 in /home/ec2-user/anaconda3/envs/python3/lib/python3.10/site-packages (from imbalanced-learn->imblearn) (1.1.3)\n",
      "Requirement already satisfied: joblib>=1.1.1 in /home/ec2-user/anaconda3/envs/python3/lib/python3.10/site-packages (from imbalanced-learn->imblearn) (1.2.0)\n",
      "Installing collected packages: imbalanced-learn, imblearn\n",
      "Successfully installed imbalanced-learn-0.10.1 imblearn-0.0\n",
      "Note: you may need to restart the kernel to use updated packages.\n"
     ]
    }
   ],
   "source": [
    "pip install imblearn"
   ]
  },
  {
   "cell_type": "code",
   "execution_count": 2,
   "id": "e14b61c3-ae4c-4b6f-9369-5b4091dbb5eb",
   "metadata": {},
   "outputs": [
    {
     "data": {
      "text/html": [
       "<div>\n",
       "<style scoped>\n",
       "    .dataframe tbody tr th:only-of-type {\n",
       "        vertical-align: middle;\n",
       "    }\n",
       "\n",
       "    .dataframe tbody tr th {\n",
       "        vertical-align: top;\n",
       "    }\n",
       "\n",
       "    .dataframe thead th {\n",
       "        text-align: right;\n",
       "    }\n",
       "</style>\n",
       "<table border=\"1\" class=\"dataframe\">\n",
       "  <thead>\n",
       "    <tr style=\"text-align: right;\">\n",
       "      <th></th>\n",
       "      <th>Churn</th>\n",
       "      <th>AccountWeeks</th>\n",
       "      <th>ContractRenewal</th>\n",
       "      <th>DataPlan</th>\n",
       "      <th>DataUsage</th>\n",
       "      <th>CustServCalls</th>\n",
       "      <th>DayMins</th>\n",
       "      <th>DayCalls</th>\n",
       "      <th>MonthlyCharge</th>\n",
       "      <th>OverageFee</th>\n",
       "      <th>RoamMins</th>\n",
       "    </tr>\n",
       "  </thead>\n",
       "  <tbody>\n",
       "    <tr>\n",
       "      <th>0</th>\n",
       "      <td>0</td>\n",
       "      <td>128</td>\n",
       "      <td>1</td>\n",
       "      <td>1</td>\n",
       "      <td>2.7</td>\n",
       "      <td>1</td>\n",
       "      <td>265.1</td>\n",
       "      <td>110</td>\n",
       "      <td>89.0</td>\n",
       "      <td>9.87</td>\n",
       "      <td>10.0</td>\n",
       "    </tr>\n",
       "    <tr>\n",
       "      <th>1</th>\n",
       "      <td>0</td>\n",
       "      <td>107</td>\n",
       "      <td>1</td>\n",
       "      <td>1</td>\n",
       "      <td>3.7</td>\n",
       "      <td>1</td>\n",
       "      <td>161.6</td>\n",
       "      <td>123</td>\n",
       "      <td>82.0</td>\n",
       "      <td>9.78</td>\n",
       "      <td>13.7</td>\n",
       "    </tr>\n",
       "    <tr>\n",
       "      <th>2</th>\n",
       "      <td>0</td>\n",
       "      <td>137</td>\n",
       "      <td>1</td>\n",
       "      <td>0</td>\n",
       "      <td>0.0</td>\n",
       "      <td>0</td>\n",
       "      <td>243.4</td>\n",
       "      <td>114</td>\n",
       "      <td>52.0</td>\n",
       "      <td>6.06</td>\n",
       "      <td>12.2</td>\n",
       "    </tr>\n",
       "    <tr>\n",
       "      <th>3</th>\n",
       "      <td>0</td>\n",
       "      <td>84</td>\n",
       "      <td>0</td>\n",
       "      <td>0</td>\n",
       "      <td>0.0</td>\n",
       "      <td>2</td>\n",
       "      <td>299.4</td>\n",
       "      <td>71</td>\n",
       "      <td>57.0</td>\n",
       "      <td>3.10</td>\n",
       "      <td>6.6</td>\n",
       "    </tr>\n",
       "    <tr>\n",
       "      <th>4</th>\n",
       "      <td>0</td>\n",
       "      <td>75</td>\n",
       "      <td>0</td>\n",
       "      <td>0</td>\n",
       "      <td>0.0</td>\n",
       "      <td>3</td>\n",
       "      <td>166.7</td>\n",
       "      <td>113</td>\n",
       "      <td>41.0</td>\n",
       "      <td>7.42</td>\n",
       "      <td>10.1</td>\n",
       "    </tr>\n",
       "  </tbody>\n",
       "</table>\n",
       "</div>"
      ],
      "text/plain": [
       "   Churn  AccountWeeks  ContractRenewal  DataPlan  DataUsage  CustServCalls  \\\n",
       "0      0           128                1         1        2.7              1   \n",
       "1      0           107                1         1        3.7              1   \n",
       "2      0           137                1         0        0.0              0   \n",
       "3      0            84                0         0        0.0              2   \n",
       "4      0            75                0         0        0.0              3   \n",
       "\n",
       "   DayMins  DayCalls  MonthlyCharge  OverageFee  RoamMins  \n",
       "0    265.1       110           89.0        9.87      10.0  \n",
       "1    161.6       123           82.0        9.78      13.7  \n",
       "2    243.4       114           52.0        6.06      12.2  \n",
       "3    299.4        71           57.0        3.10       6.6  \n",
       "4    166.7       113           41.0        7.42      10.1  "
      ]
     },
     "execution_count": 2,
     "metadata": {},
     "output_type": "execute_result"
    }
   ],
   "source": [
    "import boto3\n",
    "import pandas as pd\n",
    "import numpy as np\n",
    "import matplotlib.pyplot as plt\n",
    "\n",
    "from sklearn.model_selection import train_test_split\n",
    "from imblearn.over_sampling import SMOTE\n",
    "from sklearn.tree import DecisionTreeClassifier\n",
    "from sklearn.ensemble import RandomForestClassifier, AdaBoostClassifier\n",
    "from sklearn.metrics import roc_curve, classification_report\n",
    "\n",
    "## Defining the s3 bucket\n",
    "s3 = boto3.resource('s3')\n",
    "bucket_name = 'craig-shaffer-data-445-bucket'\n",
    "bucket = s3.Bucket(bucket_name)\n",
    "\n",
    "## Defining the file to be read from s3 bucket\n",
    "file_key = 'telecom_churn.csv'\n",
    "\n",
    "bucket_object = bucket.Object(file_key)\n",
    "file_object = bucket_object.get()\n",
    "file_content_stream = file_object.get('Body')\n",
    "\n",
    "# reading the datafile\n",
    "churn_data = pd.read_csv(file_content_stream)\n",
    "churn_data.head()"
   ]
  },
  {
   "cell_type": "code",
   "execution_count": 3,
   "id": "b8be972f-17c6-4d09-be43-66abf89f25c7",
   "metadata": {},
   "outputs": [],
   "source": [
    "#defining the input and target variables\n",
    "x=churn_data[['AccountWeeks','ContractRenewal','CustServCalls','MonthlyCharge','DayMins']]\n",
    "y=churn_data['Churn']\n",
    "\n",
    "#splitting the data\n",
    "x_train,x_test,y_train,y_test = train_test_split(x,y,test_size = .2,stratify=y)"
   ]
  },
  {
   "cell_type": "code",
   "execution_count": 4,
   "id": "14c28f04-2097-47cb-acb0-a1f1190c81b0",
   "metadata": {},
   "outputs": [],
   "source": [
    "#running SMOTE\n",
    "x_SMOTE,y_SMOTE = SMOTE().fit_resample(x_train,y_train)"
   ]
  },
  {
   "cell_type": "markdown",
   "id": "ed8dc995-09c9-409a-8a66-238c18321ff5",
   "metadata": {},
   "source": [
    "**Random Forest**"
   ]
  },
  {
   "cell_type": "code",
   "execution_count": 5,
   "id": "63d7fc1a-d0dc-43c6-87ca-ba72f62bd058",
   "metadata": {},
   "outputs": [
    {
     "name": "stdout",
     "output_type": "stream",
     "text": [
      "              precision    recall  f1-score   support\n",
      "\n",
      "           0       0.97      0.88      0.92       570\n",
      "           1       0.55      0.86      0.67        97\n",
      "\n",
      "    accuracy                           0.88       667\n",
      "   macro avg       0.76      0.87      0.80       667\n",
      "weighted avg       0.91      0.88      0.89       667\n",
      "\n"
     ]
    }
   ],
   "source": [
    "#building the model\n",
    "rf_md=RandomForestClassifier(n_estimators=500,max_depth=3).fit(x_SMOTE,y_SMOTE)\n",
    "\n",
    "#predict on test\n",
    "rf_pred = rf_md.predict_proba(x_test)[:,1]\n",
    "\n",
    "#ROC\n",
    "fpr,tpr,threshold = roc_curve(y_test,rf_pred)\n",
    "\n",
    "#finding optimal cutoff from ROC\n",
    "rf_cutoff=pd.DataFrame({'fpr':fpr,'tpr':tpr,'cutoff':threshold})\n",
    "\n",
    "#computing distance to perfect model\n",
    "rf_cutoff['distance']=np.sqrt(rf_cutoff['fpr']**2 + (1-rf_cutoff['tpr'])**2)\n",
    "\n",
    "#sorting based on distance\n",
    "rf_cutoff = rf_cutoff.sort_values(by='distance').reset_index(drop=True)\n",
    "\n",
    "#changing likelihoods to labels\n",
    "rf_pred_label = np.where(rf_pred<rf_cutoff['cutoff'][0],0,1)\n",
    "                         \n",
    "#classification report\n",
    "print(classification_report(y_test,rf_pred_label))"
   ]
  },
  {
   "cell_type": "markdown",
   "id": "a5eccec7-688f-476c-a672-b4579a7af421",
   "metadata": {},
   "source": [
    "**AdaBoost**"
   ]
  },
  {
   "cell_type": "code",
   "execution_count": 6,
   "id": "097044ea-85ac-4928-815a-e4e984fc76ce",
   "metadata": {},
   "outputs": [
    {
     "name": "stdout",
     "output_type": "stream",
     "text": [
      "              precision    recall  f1-score   support\n",
      "\n",
      "           0       0.97      0.84      0.90       570\n",
      "           1       0.47      0.85      0.61        97\n",
      "\n",
      "    accuracy                           0.84       667\n",
      "   macro avg       0.72      0.84      0.75       667\n",
      "weighted avg       0.90      0.84      0.86       667\n",
      "\n"
     ]
    }
   ],
   "source": [
    "#building the model\n",
    "ada_md=AdaBoostClassifier(base_estimator=DecisionTreeClassifier(max_depth=3),n_estimators=500,learning_rate=0.001).fit(x_SMOTE,y_SMOTE)\n",
    "\n",
    "#predict on test\n",
    "ada_pred = ada_md.predict_proba(x_test)[:,1]\n",
    "\n",
    "#ROC\n",
    "fpr,tpr,threshold = roc_curve(y_test,ada_pred)\n",
    "\n",
    "#finding optimal cutoff from ROC\n",
    "ada_cutoff=pd.DataFrame({'fpr':fpr,'tpr':tpr,'cutoff':threshold})\n",
    "\n",
    "#computing distance to perfect model\n",
    "ada_cutoff['distance']=np.sqrt(ada_cutoff['fpr']**2 + (1-ada_cutoff['tpr'])**2)\n",
    "\n",
    "#sorting based on distance\n",
    "ada_cutoff = ada_cutoff.sort_values(by='distance').reset_index(drop=True)\n",
    "\n",
    "#changing likelihoods to labels\n",
    "ada_pred_label = np.where(ada_pred<ada_cutoff['cutoff'][0],0,1)\n",
    "                         \n",
    "#classification report\n",
    "print(classification_report(y_test,ada_pred_label))"
   ]
  },
  {
   "cell_type": "markdown",
   "id": "8cd8576a-b0db-467b-8970-782516e161b3",
   "metadata": {},
   "source": [
    "Based on my results, I would use the Random Forest Model to predict customer churn"
   ]
  },
  {
   "cell_type": "code",
   "execution_count": null,
   "id": "1004f061-b9b5-480e-94e9-132ca47b0abe",
   "metadata": {},
   "outputs": [],
   "source": []
  }
 ],
 "metadata": {
  "kernelspec": {
   "display_name": "conda_python3",
   "language": "python",
   "name": "conda_python3"
  },
  "language_info": {
   "codemirror_mode": {
    "name": "ipython",
    "version": 3
   },
   "file_extension": ".py",
   "mimetype": "text/x-python",
   "name": "python",
   "nbconvert_exporter": "python",
   "pygments_lexer": "ipython3",
   "version": "3.10.6"
  }
 },
 "nbformat": 4,
 "nbformat_minor": 5
}
