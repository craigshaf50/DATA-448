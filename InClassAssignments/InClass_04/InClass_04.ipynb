{
 "cells": [
  {
   "cell_type": "code",
   "execution_count": 1,
   "id": "62e99926-8060-4304-afc4-96c0dfd5b899",
   "metadata": {},
   "outputs": [
    {
     "data": {
      "text/html": [
       "<div>\n",
       "<style scoped>\n",
       "    .dataframe tbody tr th:only-of-type {\n",
       "        vertical-align: middle;\n",
       "    }\n",
       "\n",
       "    .dataframe tbody tr th {\n",
       "        vertical-align: top;\n",
       "    }\n",
       "\n",
       "    .dataframe thead th {\n",
       "        text-align: right;\n",
       "    }\n",
       "</style>\n",
       "<table border=\"1\" class=\"dataframe\">\n",
       "  <thead>\n",
       "    <tr style=\"text-align: right;\">\n",
       "      <th></th>\n",
       "      <th>Id</th>\n",
       "      <th>SepalLengthCm</th>\n",
       "      <th>SepalWidthCm</th>\n",
       "      <th>PetalLengthCm</th>\n",
       "      <th>PetalWidthCm</th>\n",
       "      <th>Species</th>\n",
       "    </tr>\n",
       "  </thead>\n",
       "  <tbody>\n",
       "    <tr>\n",
       "      <th>0</th>\n",
       "      <td>1</td>\n",
       "      <td>5.1</td>\n",
       "      <td>3.5</td>\n",
       "      <td>1.4</td>\n",
       "      <td>0.2</td>\n",
       "      <td>Iris-setosa</td>\n",
       "    </tr>\n",
       "    <tr>\n",
       "      <th>1</th>\n",
       "      <td>2</td>\n",
       "      <td>4.9</td>\n",
       "      <td>3.0</td>\n",
       "      <td>1.4</td>\n",
       "      <td>0.2</td>\n",
       "      <td>Iris-setosa</td>\n",
       "    </tr>\n",
       "    <tr>\n",
       "      <th>2</th>\n",
       "      <td>3</td>\n",
       "      <td>4.7</td>\n",
       "      <td>3.2</td>\n",
       "      <td>1.3</td>\n",
       "      <td>0.2</td>\n",
       "      <td>Iris-setosa</td>\n",
       "    </tr>\n",
       "    <tr>\n",
       "      <th>3</th>\n",
       "      <td>4</td>\n",
       "      <td>4.6</td>\n",
       "      <td>3.1</td>\n",
       "      <td>1.5</td>\n",
       "      <td>0.2</td>\n",
       "      <td>Iris-setosa</td>\n",
       "    </tr>\n",
       "    <tr>\n",
       "      <th>4</th>\n",
       "      <td>5</td>\n",
       "      <td>5.0</td>\n",
       "      <td>3.6</td>\n",
       "      <td>1.4</td>\n",
       "      <td>0.2</td>\n",
       "      <td>Iris-setosa</td>\n",
       "    </tr>\n",
       "  </tbody>\n",
       "</table>\n",
       "</div>"
      ],
      "text/plain": [
       "   Id  SepalLengthCm  SepalWidthCm  PetalLengthCm  PetalWidthCm      Species\n",
       "0   1            5.1           3.5            1.4           0.2  Iris-setosa\n",
       "1   2            4.9           3.0            1.4           0.2  Iris-setosa\n",
       "2   3            4.7           3.2            1.3           0.2  Iris-setosa\n",
       "3   4            4.6           3.1            1.5           0.2  Iris-setosa\n",
       "4   5            5.0           3.6            1.4           0.2  Iris-setosa"
      ]
     },
     "execution_count": 1,
     "metadata": {},
     "output_type": "execute_result"
    }
   ],
   "source": [
    "import boto3\n",
    "import pandas as pd\n",
    "import numpy as np\n",
    "import matplotlib.pyplot as plt\n",
    "\n",
    "from sklearn.model_selection import train_test_split\n",
    "from sklearn.preprocessing import MinMaxScaler\n",
    "from sklearn.ensemble import RandomForestClassifier\n",
    "from sklearn.svm import SVC\n",
    "from sklearn.multiclass import OneVsRestClassifier\n",
    "from sklearn.metrics import classification_report, confusion_matrix\n",
    "\n",
    "## Defining the s3 bucket\n",
    "s3 = boto3.resource('s3')\n",
    "bucket_name = 'craig-shaffer-data-445-bucket'\n",
    "bucket = s3.Bucket(bucket_name)\n",
    "\n",
    "## Defining the file to be read from s3 bucket\n",
    "file_key = 'Iris.csv'\n",
    "\n",
    "bucket_object = bucket.Object(file_key)\n",
    "file_object = bucket_object.get()\n",
    "file_content_stream = file_object.get('Body')\n",
    "\n",
    "# reading the datafile\n",
    "iris = pd.read_csv(file_content_stream)\n",
    "iris.head()"
   ]
  },
  {
   "cell_type": "code",
   "execution_count": 2,
   "id": "a2230212-38b9-4ec6-b5a2-01d9cf0cd8a6",
   "metadata": {},
   "outputs": [
    {
     "data": {
      "text/plain": [
       "Iris-setosa        50\n",
       "Iris-versicolor    50\n",
       "Iris-virginica     50\n",
       "Name: Species, dtype: int64"
      ]
     },
     "execution_count": 2,
     "metadata": {},
     "output_type": "execute_result"
    }
   ],
   "source": [
    "#frequency table of species\n",
    "iris['Species'].value_counts()"
   ]
  },
  {
   "cell_type": "code",
   "execution_count": 3,
   "id": "8a1e99ae-b1ab-467d-8d89-0d1a91949af2",
   "metadata": {},
   "outputs": [],
   "source": [
    "#changing labels to numbers\n",
    "iris['Species_num']=np.where(iris['Species']=='Iris-virginica',1,np.where(iris['Species']=='Iris-versicolor',2,3))"
   ]
  },
  {
   "cell_type": "code",
   "execution_count": 4,
   "id": "5e8717e6-8733-4bc0-a4c6-1ba28f21540b",
   "metadata": {},
   "outputs": [],
   "source": [
    "#defining inputs\n",
    "x=iris.drop(columns=['Id','Species','Species_num'])\n",
    "y=iris['Species_num']\n",
    "\n",
    "#splitting the data\n",
    "x_train,x_test,y_train,y_test = train_test_split(x,y,test_size = .2,stratify=y)"
   ]
  },
  {
   "cell_type": "code",
   "execution_count": 5,
   "id": "497a1d26-f03d-4f77-8989-0d05c7b28bfe",
   "metadata": {},
   "outputs": [],
   "source": [
    "#scaling the data\n",
    "scaler=MinMaxScaler()\n",
    "x_train=scaler.fit_transform(x_train)\n",
    "x_test=scaler.fit_transform(x_test)"
   ]
  },
  {
   "cell_type": "markdown",
   "id": "4dbaab2a-7ef6-4e6b-89ed-99f9ce48b5b0",
   "metadata": {},
   "source": [
    "**Random Forest**"
   ]
  },
  {
   "cell_type": "code",
   "execution_count": 9,
   "id": "ff645397-b7c7-4f63-8122-82063442bbba",
   "metadata": {},
   "outputs": [
    {
     "name": "stdout",
     "output_type": "stream",
     "text": [
      "[[10  0  0]\n",
      " [ 7  3  0]\n",
      " [ 0  0 10]]\n",
      "              precision    recall  f1-score   support\n",
      "\n",
      "           1       0.59      1.00      0.74        10\n",
      "           2       1.00      0.30      0.46        10\n",
      "           3       1.00      1.00      1.00        10\n",
      "\n",
      "    accuracy                           0.77        30\n",
      "   macro avg       0.86      0.77      0.73        30\n",
      "weighted avg       0.86      0.77      0.73        30\n",
      "\n"
     ]
    }
   ],
   "source": [
    "one_vs_all_rf = OneVsRestClassifier(estimator = RandomForestClassifier(n_estimators=500,max_depth=3)).fit(x_train, y_train)\n",
    "\n",
    "#predicting on test\n",
    "one_vs_all_rf_pred = one_vs_all_rf.predict_proba(x_test)\n",
    "one_vs_all_rf_pred = np.argmax(one_vs_all_rf_pred, axis=1) +1\n",
    "\n",
    "print(confusion_matrix(y_test,one_vs_all_rf_pred))\n",
    "print(classification_report(y_test,one_vs_all_rf_pred))"
   ]
  },
  {
   "cell_type": "markdown",
   "id": "54a63b83-7def-4289-9e7f-c441eeec344b",
   "metadata": {},
   "source": [
    "**Support Vector Machine**"
   ]
  },
  {
   "cell_type": "code",
   "execution_count": 11,
   "id": "d2ba4885-9006-4a03-ab7d-d50ff9ae6e9e",
   "metadata": {},
   "outputs": [
    {
     "name": "stdout",
     "output_type": "stream",
     "text": [
      "[[10  0  0]\n",
      " [ 6  4  0]\n",
      " [ 0  0 10]]\n",
      "              precision    recall  f1-score   support\n",
      "\n",
      "           1       0.62      1.00      0.77        10\n",
      "           2       1.00      0.40      0.57        10\n",
      "           3       1.00      1.00      1.00        10\n",
      "\n",
      "    accuracy                           0.80        30\n",
      "   macro avg       0.88      0.80      0.78        30\n",
      "weighted avg       0.88      0.80      0.78        30\n",
      "\n"
     ]
    }
   ],
   "source": [
    "one_vs_all_svm = OneVsRestClassifier(estimator = SVC(kernel='rbf',C=0.1,probability=True)).fit(x_train, y_train)\n",
    "\n",
    "#predicting on test\n",
    "one_vs_all_svm_pred = one_vs_all_svm.predict_proba(x_test)\n",
    "one_vs_all_svm_pred = np.argmax(one_vs_all_svm_pred, axis=1) +1\n",
    "\n",
    "print(confusion_matrix(y_test,one_vs_all_svm_pred))\n",
    "print(classification_report(y_test,one_vs_all_svm_pred))"
   ]
  },
  {
   "cell_type": "markdown",
   "id": "c4b62057-5113-41c0-bf76-d9ea6064b6ec",
   "metadata": {},
   "source": [
    "Based on my results, SVM performed better in classifying Iris Species."
   ]
  }
 ],
 "metadata": {
  "kernelspec": {
   "display_name": "conda_python3",
   "language": "python",
   "name": "conda_python3"
  },
  "language_info": {
   "codemirror_mode": {
    "name": "ipython",
    "version": 3
   },
   "file_extension": ".py",
   "mimetype": "text/x-python",
   "name": "python",
   "nbconvert_exporter": "python",
   "pygments_lexer": "ipython3",
   "version": "3.10.6"
  }
 },
 "nbformat": 4,
 "nbformat_minor": 5
}
