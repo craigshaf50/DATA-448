{
 "cells": [
  {
   "cell_type": "markdown",
   "id": "3fbb4162-b806-4232-8283-6c89afe99844",
   "metadata": {},
   "source": [
    "**Exercise 1: (5 points) Upload the train.csv data file to your S3 bucket, and using the pandas library, read the train.csv data file and create a data-frame called train data.**"
   ]
  },
  {
   "cell_type": "code",
   "execution_count": 1,
   "id": "caa6bb8a-00dd-422a-9215-2fd18b575f2d",
   "metadata": {},
   "outputs": [
    {
     "data": {
      "text/html": [
       "<div>\n",
       "<style scoped>\n",
       "    .dataframe tbody tr th:only-of-type {\n",
       "        vertical-align: middle;\n",
       "    }\n",
       "\n",
       "    .dataframe tbody tr th {\n",
       "        vertical-align: top;\n",
       "    }\n",
       "\n",
       "    .dataframe thead th {\n",
       "        text-align: right;\n",
       "    }\n",
       "</style>\n",
       "<table border=\"1\" class=\"dataframe\">\n",
       "  <thead>\n",
       "    <tr style=\"text-align: right;\">\n",
       "      <th></th>\n",
       "      <th>id</th>\n",
       "      <th>product_code</th>\n",
       "      <th>loading</th>\n",
       "      <th>attribute_0</th>\n",
       "      <th>attribute_1</th>\n",
       "      <th>attribute_2</th>\n",
       "      <th>attribute_3</th>\n",
       "      <th>measurement_0</th>\n",
       "      <th>measurement_1</th>\n",
       "      <th>measurement_2</th>\n",
       "      <th>...</th>\n",
       "      <th>measurement_9</th>\n",
       "      <th>measurement_10</th>\n",
       "      <th>measurement_11</th>\n",
       "      <th>measurement_12</th>\n",
       "      <th>measurement_13</th>\n",
       "      <th>measurement_14</th>\n",
       "      <th>measurement_15</th>\n",
       "      <th>measurement_16</th>\n",
       "      <th>measurement_17</th>\n",
       "      <th>failure</th>\n",
       "    </tr>\n",
       "  </thead>\n",
       "  <tbody>\n",
       "    <tr>\n",
       "      <th>0</th>\n",
       "      <td>0</td>\n",
       "      <td>A</td>\n",
       "      <td>80.10</td>\n",
       "      <td>material_7</td>\n",
       "      <td>material_8</td>\n",
       "      <td>9</td>\n",
       "      <td>5</td>\n",
       "      <td>7</td>\n",
       "      <td>8</td>\n",
       "      <td>4</td>\n",
       "      <td>...</td>\n",
       "      <td>10.672</td>\n",
       "      <td>15.859</td>\n",
       "      <td>17.594</td>\n",
       "      <td>15.193</td>\n",
       "      <td>15.029</td>\n",
       "      <td>NaN</td>\n",
       "      <td>13.034</td>\n",
       "      <td>14.684</td>\n",
       "      <td>764.100</td>\n",
       "      <td>0</td>\n",
       "    </tr>\n",
       "    <tr>\n",
       "      <th>1</th>\n",
       "      <td>1</td>\n",
       "      <td>A</td>\n",
       "      <td>84.89</td>\n",
       "      <td>material_7</td>\n",
       "      <td>material_8</td>\n",
       "      <td>9</td>\n",
       "      <td>5</td>\n",
       "      <td>14</td>\n",
       "      <td>3</td>\n",
       "      <td>3</td>\n",
       "      <td>...</td>\n",
       "      <td>12.448</td>\n",
       "      <td>17.947</td>\n",
       "      <td>17.915</td>\n",
       "      <td>11.755</td>\n",
       "      <td>14.732</td>\n",
       "      <td>15.425</td>\n",
       "      <td>14.395</td>\n",
       "      <td>15.631</td>\n",
       "      <td>682.057</td>\n",
       "      <td>0</td>\n",
       "    </tr>\n",
       "    <tr>\n",
       "      <th>2</th>\n",
       "      <td>2</td>\n",
       "      <td>A</td>\n",
       "      <td>82.43</td>\n",
       "      <td>material_7</td>\n",
       "      <td>material_8</td>\n",
       "      <td>9</td>\n",
       "      <td>5</td>\n",
       "      <td>12</td>\n",
       "      <td>1</td>\n",
       "      <td>5</td>\n",
       "      <td>...</td>\n",
       "      <td>12.715</td>\n",
       "      <td>15.607</td>\n",
       "      <td>NaN</td>\n",
       "      <td>13.798</td>\n",
       "      <td>16.711</td>\n",
       "      <td>18.631</td>\n",
       "      <td>14.094</td>\n",
       "      <td>17.946</td>\n",
       "      <td>663.376</td>\n",
       "      <td>0</td>\n",
       "    </tr>\n",
       "    <tr>\n",
       "      <th>3</th>\n",
       "      <td>3</td>\n",
       "      <td>A</td>\n",
       "      <td>101.07</td>\n",
       "      <td>material_7</td>\n",
       "      <td>material_8</td>\n",
       "      <td>9</td>\n",
       "      <td>5</td>\n",
       "      <td>13</td>\n",
       "      <td>2</td>\n",
       "      <td>6</td>\n",
       "      <td>...</td>\n",
       "      <td>12.471</td>\n",
       "      <td>16.346</td>\n",
       "      <td>18.377</td>\n",
       "      <td>10.020</td>\n",
       "      <td>15.250</td>\n",
       "      <td>15.562</td>\n",
       "      <td>16.154</td>\n",
       "      <td>17.172</td>\n",
       "      <td>826.282</td>\n",
       "      <td>0</td>\n",
       "    </tr>\n",
       "    <tr>\n",
       "      <th>4</th>\n",
       "      <td>4</td>\n",
       "      <td>A</td>\n",
       "      <td>188.06</td>\n",
       "      <td>material_7</td>\n",
       "      <td>material_8</td>\n",
       "      <td>9</td>\n",
       "      <td>5</td>\n",
       "      <td>9</td>\n",
       "      <td>2</td>\n",
       "      <td>8</td>\n",
       "      <td>...</td>\n",
       "      <td>10.337</td>\n",
       "      <td>17.082</td>\n",
       "      <td>19.932</td>\n",
       "      <td>12.428</td>\n",
       "      <td>16.182</td>\n",
       "      <td>12.760</td>\n",
       "      <td>13.153</td>\n",
       "      <td>16.412</td>\n",
       "      <td>579.885</td>\n",
       "      <td>0</td>\n",
       "    </tr>\n",
       "  </tbody>\n",
       "</table>\n",
       "<p>5 rows × 26 columns</p>\n",
       "</div>"
      ],
      "text/plain": [
       "   id product_code  loading attribute_0 attribute_1  attribute_2  attribute_3  \\\n",
       "0   0            A    80.10  material_7  material_8            9            5   \n",
       "1   1            A    84.89  material_7  material_8            9            5   \n",
       "2   2            A    82.43  material_7  material_8            9            5   \n",
       "3   3            A   101.07  material_7  material_8            9            5   \n",
       "4   4            A   188.06  material_7  material_8            9            5   \n",
       "\n",
       "   measurement_0  measurement_1  measurement_2  ...  measurement_9  \\\n",
       "0              7              8              4  ...         10.672   \n",
       "1             14              3              3  ...         12.448   \n",
       "2             12              1              5  ...         12.715   \n",
       "3             13              2              6  ...         12.471   \n",
       "4              9              2              8  ...         10.337   \n",
       "\n",
       "   measurement_10  measurement_11  measurement_12  measurement_13  \\\n",
       "0          15.859          17.594          15.193          15.029   \n",
       "1          17.947          17.915          11.755          14.732   \n",
       "2          15.607             NaN          13.798          16.711   \n",
       "3          16.346          18.377          10.020          15.250   \n",
       "4          17.082          19.932          12.428          16.182   \n",
       "\n",
       "   measurement_14  measurement_15  measurement_16  measurement_17  failure  \n",
       "0             NaN          13.034          14.684         764.100        0  \n",
       "1          15.425          14.395          15.631         682.057        0  \n",
       "2          18.631          14.094          17.946         663.376        0  \n",
       "3          15.562          16.154          17.172         826.282        0  \n",
       "4          12.760          13.153          16.412         579.885        0  \n",
       "\n",
       "[5 rows x 26 columns]"
      ]
     },
     "execution_count": 1,
     "metadata": {},
     "output_type": "execute_result"
    }
   ],
   "source": [
    "import boto3\n",
    "import pandas as pd\n",
    "import numpy as np\n",
    "import matplotlib.pyplot as plt\n",
    "\n",
    "from sklearn.model_selection import train_test_split\n",
    "from sklearn.metrics import roc_curve, classification_report, roc_auc_score\n",
    "from sklearn.tree import DecisionTreeClassifier\n",
    "from sklearn.ensemble import RandomForestClassifier, AdaBoostClassifier\n",
    "from sklearn.impute import SimpleImputer, KNNImputer\n",
    "\n",
    "## Defining the s3 bucket\n",
    "s3 = boto3.resource('s3')\n",
    "bucket_name = 'craig-shaffer-data-445-bucket'\n",
    "bucket = s3.Bucket(bucket_name)\n",
    "\n",
    "## Defining the file to be read from s3 bucket\n",
    "file_key = 'train_data.csv'\n",
    "bucket_object = bucket.Object(file_key)\n",
    "file_object = bucket_object.get()\n",
    "file_content_stream = file_object.get('Body')\n",
    "\n",
    "## Reading the datafile\n",
    "train_data = pd.read_csv(file_content_stream)\n",
    "train_data.head()"
   ]
  },
  {
   "cell_type": "markdown",
   "id": "96e80572-023f-4fdf-99d2-c5cbaa0a5389",
   "metadata": {},
   "source": [
    "**Exercise 2: (5 points) Report the number of observations For each product code.**"
   ]
  },
  {
   "cell_type": "code",
   "execution_count": 2,
   "id": "41a233d1-5fc3-46d7-b4ad-0e01bbc628df",
   "metadata": {},
   "outputs": [
    {
     "data": {
      "text/plain": [
       "C    5765\n",
       "E    5343\n",
       "B    5250\n",
       "D    5112\n",
       "A    5100\n",
       "Name: product_code, dtype: int64"
      ]
     },
     "execution_count": 2,
     "metadata": {},
     "output_type": "execute_result"
    }
   ],
   "source": [
    "#frequency table of product code\n",
    "train_data['product_code'].value_counts()"
   ]
  },
  {
   "cell_type": "markdown",
   "id": "20669a83-35c3-4225-bb86-7dd95cfa2378",
   "metadata": {},
   "source": [
    "**Exercise 3: (15 points) Create two visualizations that may show interesting relationships between the input variables and the target variable. Make sure to describe the visualizations.**"
   ]
  },
  {
   "cell_type": "code",
   "execution_count": 3,
   "id": "6c88d026-4b08-4b0a-ab2d-185c54f326a5",
   "metadata": {},
   "outputs": [
    {
     "name": "stdout",
     "output_type": "stream",
     "text": [
      "            loading\n",
      "failure            \n",
      "0        125.205495\n",
      "1        137.511973\n"
     ]
    },
    {
     "data": {
      "image/png": "[encoded data removed]",
      "text/plain": [
       "<Figure size 640x480 with 1 Axes>"
      ]
     },
     "metadata": {},
     "output_type": "display_data"
    }
   ],
   "source": [
    "#visualization 1\n",
    "#finding mean of load for failure (0-1)\n",
    "fail_load = train_data[['loading','failure']]\n",
    "fail_load_avg = fail_load.groupby('failure').mean()\n",
    "print(fail_load_avg)\n",
    "\n",
    "bar1 = fail_load_avg.loc[0] #success (failure==0)\n",
    "bar2 = fail_load_avg.loc[1] #failure (failure==1)\n",
    "\n",
    "plt.bar(0, bar1, width=.5, edgecolor='black', label='Failure==0')\n",
    "plt.bar(1, bar2, width=.5, edgecolor='black', label='Failure==1')\n",
    "\n",
    "plt.xlabel('Failure')\n",
    "plt.ylabel('Average Loading')\n",
    "plt.xticks([0,1],labels=[0,1])\n",
    "plt.legend(bbox_to_anchor=(1.05, 1), loc='upper left', borderaxespad=0)\n",
    "plt.show()"
   ]
  },
  {
   "cell_type": "markdown",
   "id": "1af8244a-f5e1-40bd-86e1-c447d00d6a06",
   "metadata": {},
   "source": [
    "Based on the visualization above, we can see that the average value of loading is higher in products that fail (failure==1). The difference is noticeable and loading could end up being a good predictor of failure because of this difference."
   ]
  },
  {
   "cell_type": "code",
   "execution_count": 20,
   "id": "9ba41150-0f8d-4b6f-b9f9-aecdffc57ad7",
   "metadata": {},
   "outputs": [
    {
     "name": "stderr",
     "output_type": "stream",
     "text": [
      "/tmp/ipykernel_7715/1198896317.py:5: FutureWarning: The default value of numeric_only in DataFrameGroupBy.sum is deprecated. In a future version, numeric_only will default to False. Either specify numeric_only or select only columns which should be valid for the function.\n",
      "  group = train_data.groupby('product_code').sum()\n"
     ]
    },
    {
     "name": "stdout",
     "output_type": "stream",
     "text": [
      "  product_code  failures  observations  pct_fail\n",
      "0            A      1159          5100  0.227255\n",
      "1            B      1052          5250  0.200381\n",
      "2            C      1220          5765  0.211622\n",
      "3            D      1112          5112  0.217527\n",
      "4            E      1106          5343  0.207000\n"
     ]
    },
    {
     "data": {
      "image/png": "[encoded data removed]",
      "text/plain": [
       "<Figure size 640x480 with 1 Axes>"
      ]
     },
     "metadata": {},
     "output_type": "display_data"
    }
   ],
   "source": [
    "#visualization 2\n",
    "#comparing failure rate among product codes\n",
    "\n",
    "#number of failures per product_code\n",
    "group = train_data.groupby('product_code').sum()\n",
    "\n",
    "#dataframe with number of failures, observations, and pct failure for each product code\n",
    "dict = {'product_code':['A','B','C','D','E'],\n",
    "        'failures': [1159,1052,1220,1112,1106],\n",
    "        'observations':[5100,5250,5765,5112,5343]}\n",
    "fail_df = pd.DataFrame(dict)\n",
    "fail_df['pct_fail'] = fail_df['failures']/fail_df['observations']\n",
    "print(fail_df)\n",
    "\n",
    "#heights of bars\n",
    "barA=fail_df.loc[0][3]\n",
    "barB=fail_df.loc[1][3]\n",
    "barC=fail_df.loc[2][3]\n",
    "barD=fail_df.loc[3][3]\n",
    "barE=fail_df.loc[4][3]\n",
    "\n",
    "plt.bar(0, barA, width=.5, edgecolor='black', label='A')\n",
    "plt.bar(1, barB, width=.5, edgecolor='black', label='B')\n",
    "plt.bar(2, barC, width=.5, edgecolor='black', label='C')\n",
    "plt.bar(3, barD, width=.5, edgecolor='black', label='D')\n",
    "plt.bar(4, barE, width=.5, edgecolor='black', label='E')\n",
    "\n",
    "plt.xlabel('Product Code')\n",
    "plt.ylabel('Failure Pct')\n",
    "plt.xticks([0,1,2,3,4],labels=['A','B','C','D','E'])\n",
    "plt.yticks(np.arange(0, 0.25, .0250))\n",
    "plt.legend(bbox_to_anchor=(1.05, 1), loc='upper left', borderaxespad=0)\n",
    "plt.show()"
   ]
  },
  {
   "cell_type": "markdown",
   "id": "01db4811-a8bb-4cb1-9840-122de1fd54a5",
   "metadata": {},
   "source": [
    "Based on the visualization above, we can see that product code A has the highest percentage of failures (roughly 22.7%). We also can see that product code B has the lowest percentage of failures (roughly 20.0%). Product code E has the next lowest percentage of failures (20.7%). Product code C has the middle percentage of failures (roughly 21.2%). Product code D has the second highest percentage of failure (roughly 21.8%). This visualization shows that there are differences in the rates of failure between product codes."
   ]
  },
  {
   "cell_type": "markdown",
   "id": "44a80148-554a-47f3-98ba-9dea7a98f227",
   "metadata": {},
   "source": [
    "**Exercise 4: (50 points) Split the train data into two data-frames (taking into account the proportion of 0s and 1s in failure): train (80%) and test (20%). Then, do the following:**"
   ]
  },
  {
   "cell_type": "code",
   "execution_count": 21,
   "id": "b8ce4c26-58cc-4cac-8699-361e1a75cb95",
   "metadata": {},
   "outputs": [],
   "source": [
    "#defining inputs\n",
    "x=train_data.drop(columns=['failure'])\n",
    "y=train_data['failure']\n",
    "\n",
    "#splitting the data\n",
    "x_train,x_test,y_train,y_test = train_test_split(x,y,test_size = .2,stratify=y)"
   ]
  },
  {
   "cell_type": "markdown",
   "id": "cb5780ab-0fa3-48ce-b320-92b6a69662c5",
   "metadata": {},
   "source": [
    "(i) Fill the missing values in the train using the k-NN imputation strategy (5 neighbors). Then, use that k-NN imputer to fill any missing values in the test dataset. After that, build a classification model in the train dataset (use all the numerical variables as input variables and failure as the target variable), and use this model to predict the likelihood of failure in the test dataset. Evaluate the performance of the model by computing the area under the ROC curve between the predicted probability and the observed target variable. Note that you can use the roc_auc_score function from scikit-learn to compute the area under the ROC curve."
   ]
  },
  {
   "cell_type": "code",
   "execution_count": 22,
   "id": "7616a57e-50bf-4902-8d85-3d492cc1dda6",
   "metadata": {},
   "outputs": [],
   "source": [
    "x_train_i = x_train.drop(columns=['product_code', 'attribute_0', 'attribute_1'], axis=1)\n",
    "x_test_i = x_test.drop(columns=['product_code', 'attribute_0', 'attribute_1'], axis=1)\n",
    "\n",
    "#defining the imputer\n",
    "imputer= KNNImputer(n_neighbors= 5, weights= 'distance').fit(x_train_i)\n",
    "\n",
    "#imputing missing values\n",
    "x_train_imp= pd.DataFrame(imputer.transform(x_train_i), columns= x_train_i.columns)\n",
    "x_test_imp= pd.DataFrame(imputer.transform(x_test_i), columns= x_test_i.columns)"
   ]
  },
  {
   "cell_type": "code",
   "execution_count": 23,
   "id": "6e6f343e-6b62-4d19-a4ac-cd71efbe45dc",
   "metadata": {},
   "outputs": [
    {
     "name": "stdout",
     "output_type": "stream",
     "text": [
      "Area under the ROC curve: 0.5673697947511802\n"
     ]
    }
   ],
   "source": [
    "#building model\n",
    "ada_md = AdaBoostClassifier(base_estimator=DecisionTreeClassifier(max_depth=5),n_estimators=500,learning_rate=.01).fit(x_train_imp,y_train)\n",
    "\n",
    "#predicting on test\n",
    "ada_pred = ada_md.predict_proba(x_test_imp)[:, 1]\n",
    "\n",
    "#calculating roc_auc_score\n",
    "ada_auc = roc_auc_score(y_test, ada_pred)\n",
    "\n",
    "#printing roc_auc_score\n",
    "print(\"Area under the ROC curve:\", ada_auc)"
   ]
  },
  {
   "cell_type": "markdown",
   "id": "e014ad7b-545e-44eb-b26c-a92062d50bbf",
   "metadata": {},
   "source": [
    "(ii) Fill the missing values in the train using the k-NN imputation strategy (5 neighbors). In this case, fill the missing values based on the product_code. That is, for example, fill any missing values for observations in product_code = A only using observations in product code = A. Then, use that k-NN imputer to fill any missing values in the test dataset. After that, build a classification model (same model from part (i)) in the train dataset (use all the numerical variables as input variables and failure as the target variable), and use this model to predict the likelihood of failure in the test dataset. Evaluate the performance of the model by computing the area under the ROC curve between the predicted probability and the observed target variable. Note that you can use the roc_auc_score function from scikit-learn to compute the area under the ROC curve."
   ]
  },
  {
   "cell_type": "code",
   "execution_count": 24,
   "id": "b44683e3-83f7-4f15-a001-31d5d92def8f",
   "metadata": {},
   "outputs": [],
   "source": [
    "#product code A imputation\n",
    "train_code_A=x_train[x_train['product_code']=='A']\n",
    "y_train_code_A=y_train.loc[x_train['product_code']=='A']\n",
    "test_code_A=x_test[x_test['product_code']=='A']\n",
    "y_test_code_A=y_test.loc[x_test['product_code']=='A']\n",
    "\n",
    "#dropping columns\n",
    "train_code_A=train_code_A.drop(columns=['product_code', 'attribute_0', 'attribute_1'], axis=1)\n",
    "test_code_A=test_code_A.drop(columns= ['product_code', 'attribute_0', 'attribute_1'], axis=1)\n",
    "\n",
    "#defining the imputer\n",
    "imputer=KNNImputer(n_neighbors=5, weights='distance').fit(train_code_A)\n",
    "                              \n",
    "#imputing missing values\n",
    "train_code_A=pd.DataFrame(imputer.transform(train_code_A), columns=train_code_A.columns).reset_index(drop = True)\n",
    "test_code_A=pd.DataFrame(imputer.transform(test_code_A), columns=test_code_A.columns).reset_index(drop = True)"
   ]
  },
  {
   "cell_type": "code",
   "execution_count": 25,
   "id": "72f54331-adf0-4eb3-9373-648a266d62a0",
   "metadata": {},
   "outputs": [],
   "source": [
    "#product code B imputation\n",
    "train_code_B=x_train[x_train['product_code']=='B']\n",
    "y_train_code_B=y_train.loc[x_train['product_code']=='B']\n",
    "test_code_B=x_test[x_test['product_code']=='B']\n",
    "y_test_code_B=y_test.loc[x_test['product_code']=='B']\n",
    "\n",
    "#dropping columns\n",
    "train_code_B=train_code_B.drop(columns=['product_code', 'attribute_0', 'attribute_1'], axis=1)\n",
    "test_code_B=test_code_B.drop(columns= ['product_code', 'attribute_0', 'attribute_1'], axis=1)\n",
    "\n",
    "#defining the imputer\n",
    "imputer=KNNImputer(n_neighbors=5, weights='distance').fit(train_code_B)\n",
    "                                        \n",
    "#imputing missing values\n",
    "train_code_B=pd.DataFrame(imputer.transform(train_code_B), columns=train_code_B.columns).reset_index(drop = True)\n",
    "test_code_B=pd.DataFrame(imputer.transform(test_code_B), columns=test_code_B.columns).reset_index(drop = True)"
   ]
  },
  {
   "cell_type": "code",
   "execution_count": 26,
   "id": "f28169fb-be1e-44c3-b2b7-566b7bc5af9e",
   "metadata": {},
   "outputs": [],
   "source": [
    "#product code C imputation\n",
    "train_code_C=x_train[x_train['product_code']=='C']\n",
    "y_train_code_C=y_train.loc[x_train['product_code']=='C']\n",
    "test_code_C=x_test[x_test['product_code']=='C']\n",
    "y_test_code_C=y_test.loc[x_test['product_code']=='C']\n",
    "\n",
    "#dropping columns\n",
    "train_code_C=train_code_C.drop(columns=['product_code', 'attribute_0', 'attribute_1'], axis=1)\n",
    "test_code_C=test_code_C.drop(columns= ['product_code', 'attribute_0', 'attribute_1'], axis=1)\n",
    "\n",
    "#defining the imputer\n",
    "imputer=KNNImputer(n_neighbors=5, weights='distance').fit(train_code_C)\n",
    "                              \n",
    "#imputing missing values\n",
    "train_code_C=pd.DataFrame(imputer.transform(train_code_C), columns=train_code_C.columns).reset_index(drop = True)\n",
    "test_code_C=pd.DataFrame(imputer.transform(test_code_C), columns=test_code_C.columns).reset_index(drop = True)"
   ]
  },
  {
   "cell_type": "code",
   "execution_count": 27,
   "id": "a7003d42-7edf-4af1-b34b-e7926a8aa2f0",
   "metadata": {},
   "outputs": [],
   "source": [
    "#product code D imputation\n",
    "train_code_D=x_train[x_train['product_code']=='D']\n",
    "y_train_code_D=y_train.loc[x_train['product_code']=='D']\n",
    "test_code_D=x_test[x_test['product_code']=='D']\n",
    "y_test_code_D=y_test.loc[x_test['product_code']=='D']\n",
    "\n",
    "#dropping columns\n",
    "train_code_D=train_code_D.drop(columns=['product_code', 'attribute_0', 'attribute_1'], axis=1)\n",
    "test_code_D=test_code_D.drop(columns= ['product_code', 'attribute_0', 'attribute_1'], axis=1)\n",
    "\n",
    "#defining the imputer\n",
    "imputer=KNNImputer(n_neighbors=5, weights='distance').fit(train_code_D)\n",
    "                              \n",
    "#imputing missing values\n",
    "train_code_D=pd.DataFrame(imputer.transform(train_code_D), columns=train_code_D.columns).reset_index(drop = True)\n",
    "test_code_D=pd.DataFrame(imputer.transform(test_code_D), columns=test_code_D.columns).reset_index(drop = True)"
   ]
  },
  {
   "cell_type": "code",
   "execution_count": 28,
   "id": "1e1f31a8-78d3-434e-86c3-cec2f15ecf6f",
   "metadata": {},
   "outputs": [],
   "source": [
    "#product code E imputation\n",
    "train_code_E=x_train[x_train['product_code']=='E']\n",
    "y_train_code_E=y_train.loc[x_train['product_code']=='E']\n",
    "test_code_E=x_test[x_test['product_code']=='E']\n",
    "y_test_code_E=y_test.loc[x_test['product_code']=='E']\n",
    "\n",
    "#dropping columns\n",
    "train_code_E=train_code_E.drop(columns=['product_code', 'attribute_0', 'attribute_1'], axis=1)\n",
    "test_code_E=test_code_E.drop(columns= ['product_code', 'attribute_0', 'attribute_1'], axis=1)\n",
    "\n",
    "#defining the imputer\n",
    "imputer=KNNImputer(n_neighbors=5, weights='distance').fit(train_code_E)\n",
    "                              \n",
    "#imputing missing values\n",
    "train_code_E=pd.DataFrame(imputer.transform(train_code_E), columns=train_code_E.columns).reset_index(drop = True)\n",
    "test_code_E=pd.DataFrame(imputer.transform(test_code_E), columns=test_code_E.columns).reset_index(drop = True)"
   ]
  },
  {
   "cell_type": "code",
   "execution_count": 29,
   "id": "cc547b11-c968-4acf-aea3-189bfa2c272c",
   "metadata": {},
   "outputs": [],
   "source": [
    "#concatenating imputed results\n",
    "x_train_code= pd.concat([train_code_A, train_code_B, train_code_C, train_code_D, train_code_E], axis=0)\n",
    "y_train_code = pd.concat([y_train_code_A, y_train_code_B, y_train_code_C, y_train_code_D, y_train_code_E], axis = 0) \n",
    "x_test_code= pd.concat([test_code_A, test_code_B, test_code_C, test_code_D, test_code_E], axis=0)\n",
    "y_test_code = pd.concat([y_test_code_A, y_test_code_B, y_test_code_C, y_test_code_D, y_test_code_E], axis = 0)"
   ]
  },
  {
   "cell_type": "code",
   "execution_count": 31,
   "id": "b69b787f-c472-4c5f-8b2e-4fb28ee3085b",
   "metadata": {},
   "outputs": [
    {
     "name": "stdout",
     "output_type": "stream",
     "text": [
      "Area under the ROC curve: 0.5637711721010508\n"
     ]
    }
   ],
   "source": [
    "#building model\n",
    "ada_md = AdaBoostClassifier(base_estimator=DecisionTreeClassifier(max_depth=5),n_estimators=500,learning_rate=.01).fit(x_train_code,y_train_code)\n",
    "\n",
    "#predicting on test\n",
    "ada_pred = ada_md.predict_proba(x_test_code)[:, 1]\n",
    "\n",
    "#calculating roc_auc_score\n",
    "ada_auc = roc_auc_score(y_test_code, ada_pred)\n",
    "\n",
    "#printing roc_auc_score\n",
    "print(\"Area under the ROC curve:\", ada_auc)"
   ]
  },
  {
   "cell_type": "markdown",
   "id": "99e8e12c-c8eb-4ec2-a07c-c7fe2b597ab5",
   "metadata": {},
   "source": [
    "(iii) Based on your results from parts (i) and (ii), what strategy would you use to predict failure? Be specific."
   ]
  },
  {
   "cell_type": "markdown",
   "id": "a7c3d3c0-d6db-4d36-b392-f817688986d2",
   "metadata": {},
   "source": [
    "I would use the strategy from part i (KNN Imputer not based on product codes) to predict failure. I would choose this strategy because it had a greater area under the curve (0.5674 vs 0.5638)."
   ]
  },
  {
   "cell_type": "code",
   "execution_count": null,
   "id": "c24d6751-4af2-4ee9-bd11-10107677d48b",
   "metadata": {},
   "outputs": [],
   "source": []
  }
 ],
 "metadata": {
  "kernelspec": {
   "display_name": "conda_python3",
   "language": "python",
   "name": "conda_python3"
  },
  "language_info": {
   "codemirror_mode": {
    "name": "ipython",
    "version": 3
   },
   "file_extension": ".py",
   "mimetype": "text/x-python",
   "name": "python",
   "nbconvert_exporter": "python",
   "pygments_lexer": "ipython3",
   "version": "3.10.6"
  }
 },
 "nbformat": 4,
 "nbformat_minor": 5
}
