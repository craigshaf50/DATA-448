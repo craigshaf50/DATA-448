{
 "cells": [
  {
   "cell_type": "markdown",
   "id": "12b3e358-b90f-4960-8d2d-932a72bf37b6",
   "metadata": {},
   "source": [
    "**Exercise 1: (5 points) Create a s3 bucket to store the data files (train.csv and test.csv). Using pandas, read the both data files and called them train and test.**"
   ]
  },
  {
   "cell_type": "code",
   "execution_count": 1,
   "id": "699126be-9335-47c6-a908-2fae5f11143c",
   "metadata": {},
   "outputs": [],
   "source": [
    "import boto3\n",
    "import pandas as pd\n",
    "import numpy as np\n",
    "import matplotlib.pyplot as plt\n",
    "from sklearn.model_selection import train_test_split\n",
    "from sklearn.tree import DecisionTreeClassifier\n",
    "from sklearn.ensemble import RandomForestClassifier, AdaBoostClassifier\n",
    "from sklearn.metrics import classification_report, precision_recall_curve\n",
    "\n",
    "## Defining the s3 bucket\n",
    "s3 = boto3.resource('s3')\n",
    "bucket_name = 'craig-shaffer-data-445-bucket'\n",
    "bucket = s3.Bucket(bucket_name)\n",
    "\n",
    "## Defining the file to be read from s3 bucket\n",
    "file_key = 'telecom_churn.csv'\n",
    "\n",
    "bucket_object = bucket.Object(file_key)\n",
    "file_object = bucket_object.get()\n",
    "file_content_stream = file_object.get('Body')\n",
    "\n",
    "# reading the datafiles\n",
    "file_key = 'train.csv'\n",
    "file_key2 = 'test.csv'\n",
    "\n",
    "bucket_object = bucket.Object(file_key)\n",
    "bucket_object2 = bucket.Object(file_key2)\n",
    "\n",
    "file_object = bucket_object.get()\n",
    "file_object2 = bucket_object2.get()\n",
    "\n",
    "file_content_stream = file_object.get('Body')\n",
    "file_content_stream2 = file_object2.get('Body')\n",
    "\n",
    "train = pd.read_csv(file_content_stream, sep = '|')\n",
    "test = pd.read_csv(file_content_stream2, sep = '|')"
   ]
  },
  {
   "cell_type": "code",
   "execution_count": 2,
   "id": "9f22aa3b-c239-4ef9-b09c-fcc1b6c18536",
   "metadata": {},
   "outputs": [
    {
     "data": {
      "text/html": [
       "<div>\n",
       "<style scoped>\n",
       "    .dataframe tbody tr th:only-of-type {\n",
       "        vertical-align: middle;\n",
       "    }\n",
       "\n",
       "    .dataframe tbody tr th {\n",
       "        vertical-align: top;\n",
       "    }\n",
       "\n",
       "    .dataframe thead th {\n",
       "        text-align: right;\n",
       "    }\n",
       "</style>\n",
       "<table border=\"1\" class=\"dataframe\">\n",
       "  <thead>\n",
       "    <tr style=\"text-align: right;\">\n",
       "      <th></th>\n",
       "      <th>trustLevel</th>\n",
       "      <th>totalScanTimeInSeconds</th>\n",
       "      <th>grandTotal</th>\n",
       "      <th>lineItemVoids</th>\n",
       "      <th>scansWithoutRegistration</th>\n",
       "      <th>quantityModifications</th>\n",
       "      <th>scannedLineItemsPerSecond</th>\n",
       "      <th>valuePerSecond</th>\n",
       "      <th>lineItemVoidsPerPosition</th>\n",
       "      <th>fraud</th>\n",
       "    </tr>\n",
       "  </thead>\n",
       "  <tbody>\n",
       "    <tr>\n",
       "      <th>0</th>\n",
       "      <td>5</td>\n",
       "      <td>1054</td>\n",
       "      <td>54.70</td>\n",
       "      <td>7</td>\n",
       "      <td>0</td>\n",
       "      <td>3</td>\n",
       "      <td>0.027514</td>\n",
       "      <td>0.051898</td>\n",
       "      <td>0.241379</td>\n",
       "      <td>0</td>\n",
       "    </tr>\n",
       "    <tr>\n",
       "      <th>1</th>\n",
       "      <td>3</td>\n",
       "      <td>108</td>\n",
       "      <td>27.36</td>\n",
       "      <td>5</td>\n",
       "      <td>2</td>\n",
       "      <td>4</td>\n",
       "      <td>0.129630</td>\n",
       "      <td>0.253333</td>\n",
       "      <td>0.357143</td>\n",
       "      <td>0</td>\n",
       "    </tr>\n",
       "    <tr>\n",
       "      <th>2</th>\n",
       "      <td>3</td>\n",
       "      <td>1516</td>\n",
       "      <td>62.16</td>\n",
       "      <td>3</td>\n",
       "      <td>10</td>\n",
       "      <td>5</td>\n",
       "      <td>0.008575</td>\n",
       "      <td>0.041003</td>\n",
       "      <td>0.230769</td>\n",
       "      <td>0</td>\n",
       "    </tr>\n",
       "    <tr>\n",
       "      <th>3</th>\n",
       "      <td>6</td>\n",
       "      <td>1791</td>\n",
       "      <td>92.31</td>\n",
       "      <td>8</td>\n",
       "      <td>4</td>\n",
       "      <td>4</td>\n",
       "      <td>0.016192</td>\n",
       "      <td>0.051541</td>\n",
       "      <td>0.275862</td>\n",
       "      <td>0</td>\n",
       "    </tr>\n",
       "    <tr>\n",
       "      <th>4</th>\n",
       "      <td>5</td>\n",
       "      <td>430</td>\n",
       "      <td>81.53</td>\n",
       "      <td>3</td>\n",
       "      <td>7</td>\n",
       "      <td>2</td>\n",
       "      <td>0.062791</td>\n",
       "      <td>0.189605</td>\n",
       "      <td>0.111111</td>\n",
       "      <td>0</td>\n",
       "    </tr>\n",
       "  </tbody>\n",
       "</table>\n",
       "</div>"
      ],
      "text/plain": [
       "   trustLevel  totalScanTimeInSeconds  grandTotal  lineItemVoids  \\\n",
       "0           5                    1054       54.70              7   \n",
       "1           3                     108       27.36              5   \n",
       "2           3                    1516       62.16              3   \n",
       "3           6                    1791       92.31              8   \n",
       "4           5                     430       81.53              3   \n",
       "\n",
       "   scansWithoutRegistration  quantityModifications  scannedLineItemsPerSecond  \\\n",
       "0                         0                      3                   0.027514   \n",
       "1                         2                      4                   0.129630   \n",
       "2                        10                      5                   0.008575   \n",
       "3                         4                      4                   0.016192   \n",
       "4                         7                      2                   0.062791   \n",
       "\n",
       "   valuePerSecond  lineItemVoidsPerPosition  fraud  \n",
       "0        0.051898                  0.241379      0  \n",
       "1        0.253333                  0.357143      0  \n",
       "2        0.041003                  0.230769      0  \n",
       "3        0.051541                  0.275862      0  \n",
       "4        0.189605                  0.111111      0  "
      ]
     },
     "execution_count": 2,
     "metadata": {},
     "output_type": "execute_result"
    }
   ],
   "source": [
    "train.head()"
   ]
  },
  {
   "cell_type": "code",
   "execution_count": 3,
   "id": "b7e673e5-b22c-498d-af21-830dbf0a623e",
   "metadata": {},
   "outputs": [
    {
     "data": {
      "text/html": [
       "<div>\n",
       "<style scoped>\n",
       "    .dataframe tbody tr th:only-of-type {\n",
       "        vertical-align: middle;\n",
       "    }\n",
       "\n",
       "    .dataframe tbody tr th {\n",
       "        vertical-align: top;\n",
       "    }\n",
       "\n",
       "    .dataframe thead th {\n",
       "        text-align: right;\n",
       "    }\n",
       "</style>\n",
       "<table border=\"1\" class=\"dataframe\">\n",
       "  <thead>\n",
       "    <tr style=\"text-align: right;\">\n",
       "      <th></th>\n",
       "      <th>trustLevel</th>\n",
       "      <th>totalScanTimeInSeconds</th>\n",
       "      <th>grandTotal</th>\n",
       "      <th>lineItemVoids</th>\n",
       "      <th>scansWithoutRegistration</th>\n",
       "      <th>quantityModifications</th>\n",
       "      <th>scannedLineItemsPerSecond</th>\n",
       "      <th>valuePerSecond</th>\n",
       "      <th>lineItemVoidsPerPosition</th>\n",
       "    </tr>\n",
       "  </thead>\n",
       "  <tbody>\n",
       "    <tr>\n",
       "      <th>0</th>\n",
       "      <td>4</td>\n",
       "      <td>467</td>\n",
       "      <td>88.48</td>\n",
       "      <td>4</td>\n",
       "      <td>8</td>\n",
       "      <td>4</td>\n",
       "      <td>0.014989</td>\n",
       "      <td>0.189465</td>\n",
       "      <td>0.571429</td>\n",
       "    </tr>\n",
       "    <tr>\n",
       "      <th>1</th>\n",
       "      <td>3</td>\n",
       "      <td>1004</td>\n",
       "      <td>58.99</td>\n",
       "      <td>7</td>\n",
       "      <td>6</td>\n",
       "      <td>1</td>\n",
       "      <td>0.026892</td>\n",
       "      <td>0.058755</td>\n",
       "      <td>0.259259</td>\n",
       "    </tr>\n",
       "    <tr>\n",
       "      <th>2</th>\n",
       "      <td>1</td>\n",
       "      <td>162</td>\n",
       "      <td>14.00</td>\n",
       "      <td>4</td>\n",
       "      <td>5</td>\n",
       "      <td>4</td>\n",
       "      <td>0.006173</td>\n",
       "      <td>0.086420</td>\n",
       "      <td>4.000000</td>\n",
       "    </tr>\n",
       "    <tr>\n",
       "      <th>3</th>\n",
       "      <td>5</td>\n",
       "      <td>532</td>\n",
       "      <td>84.79</td>\n",
       "      <td>9</td>\n",
       "      <td>3</td>\n",
       "      <td>4</td>\n",
       "      <td>0.026316</td>\n",
       "      <td>0.159380</td>\n",
       "      <td>0.642857</td>\n",
       "    </tr>\n",
       "    <tr>\n",
       "      <th>4</th>\n",
       "      <td>5</td>\n",
       "      <td>890</td>\n",
       "      <td>42.16</td>\n",
       "      <td>4</td>\n",
       "      <td>0</td>\n",
       "      <td>0</td>\n",
       "      <td>0.021348</td>\n",
       "      <td>0.047371</td>\n",
       "      <td>0.210526</td>\n",
       "    </tr>\n",
       "  </tbody>\n",
       "</table>\n",
       "</div>"
      ],
      "text/plain": [
       "   trustLevel  totalScanTimeInSeconds  grandTotal  lineItemVoids  \\\n",
       "0           4                     467       88.48              4   \n",
       "1           3                    1004       58.99              7   \n",
       "2           1                     162       14.00              4   \n",
       "3           5                     532       84.79              9   \n",
       "4           5                     890       42.16              4   \n",
       "\n",
       "   scansWithoutRegistration  quantityModifications  scannedLineItemsPerSecond  \\\n",
       "0                         8                      4                   0.014989   \n",
       "1                         6                      1                   0.026892   \n",
       "2                         5                      4                   0.006173   \n",
       "3                         3                      4                   0.026316   \n",
       "4                         0                      0                   0.021348   \n",
       "\n",
       "   valuePerSecond  lineItemVoidsPerPosition  \n",
       "0        0.189465                  0.571429  \n",
       "1        0.058755                  0.259259  \n",
       "2        0.086420                  4.000000  \n",
       "3        0.159380                  0.642857  \n",
       "4        0.047371                  0.210526  "
      ]
     },
     "execution_count": 3,
     "metadata": {},
     "output_type": "execute_result"
    }
   ],
   "source": [
    "test.head()"
   ]
  },
  {
   "cell_type": "markdown",
   "id": "955a71b4-1665-42d2-aed0-77871b310502",
   "metadata": {},
   "source": [
    "**Exercise 2: (3 points) Report the number of observations in the train and test data-frames. Also, create a frequency table of the target variable (fraud).**"
   ]
  },
  {
   "cell_type": "code",
   "execution_count": 6,
   "id": "e96b1353-9372-4e77-b8ec-b9ba7538304c",
   "metadata": {},
   "outputs": [
    {
     "name": "stdout",
     "output_type": "stream",
     "text": [
      "Train observations: 1879\n",
      "Test observations: 498121\n",
      "\n",
      "Number of fraud in training set:\n",
      "0    1775\n",
      "1     104\n",
      "Name: fraud, dtype: int64\n",
      "\n",
      "Relative proportion of fraud in training set:\n",
      "0    0.944651\n",
      "1    0.055349\n",
      "Name: fraud, dtype: float64\n"
     ]
    }
   ],
   "source": [
    "print(\"Train observations:\", train.shape[0])\n",
    "print(\"Test observations:\", test.shape[0])\n",
    "\n",
    "#creating a frequency table of the target variable (fraud)\n",
    "print('\\nNumber of fraud in training set:')\n",
    "print(train['fraud'].value_counts())\n",
    "\n",
    "#Relative frequencies\n",
    "print('\\nRelative proportion of fraud in training set:')\n",
    "print(train['fraud'].value_counts() / train.shape[0])"
   ]
  },
  {
   "cell_type": "markdown",
   "id": "ad09a585-4272-4961-9c99-9fb87ac74cc8",
   "metadata": {},
   "source": [
    "**Exercise 3: (20 points) Create at least two visualizations that may show interesting relationships between the\n",
    "input variables and the target variable. Make sure to describe the visualizations.**"
   ]
  },
  {
   "cell_type": "code",
   "execution_count": 12,
   "id": "b18fc914-6eef-4ac3-9e4c-7afc2e9df640",
   "metadata": {},
   "outputs": [
    {
     "data": {
      "image/png": "[encoded data removed]",
      "text/plain": [
       "<Figure size 640x480 with 1 Axes>"
      ]
     },
     "metadata": {},
     "output_type": "display_data"
    }
   ],
   "source": [
    "#total number of frauds for each trust level group\n",
    "trust_lvl = train.groupby('trustLevel').sum()\n",
    "\n",
    "plt.bar(trust_lvl.index, trust_lvl['fraud'])\n",
    "plt.title('Frauds by Trust Level')\n",
    "plt.xlabel('Customer Trust Level')\n",
    "plt.ylabel('Number of Frauds')\n",
    "plt.grid(linestyle='--',axis='y')\n",
    "plt.show()"
   ]
  },
  {
   "cell_type": "markdown",
   "id": "00c62ee1-9701-4e16-83d1-3de969be801a",
   "metadata": {},
   "source": [
    "It is apparent that higher customer trust scores have no fraud transactions. All frauds are made from customers with 1 or 2 as a trust score. This variable seems to be important in detecting fraud."
   ]
  },
  {
   "cell_type": "code",
   "execution_count": 15,
   "id": "5bdfaf38-ce1b-4338-a965-b5ff866c4bc5",
   "metadata": {},
   "outputs": [
    {
     "data": {
      "image/png": "[encoded data removed]",
      "text/plain": [
       "<Figure size 640x480 with 1 Axes>"
      ]
     },
     "metadata": {},
     "output_type": "display_data"
    }
   ],
   "source": [
    "#comparing average number of scanned products of fraud and not fraud transactions\n",
    "train['fraud_label'] = np.where(train['fraud'] == 0, '0', '1')\n",
    "average = train.groupby('fraud_label').mean()\n",
    "train = train.drop(columns = 'fraud_label')\n",
    "\n",
    "plt.bar(average.index, average['scannedLineItemsPerSecond'])\n",
    "plt.title('Average Scanned Line Items per Second by Fraud')\n",
    "plt.xlabel('Fraud')\n",
    "plt.ylabel('Average Scanned Line Items per Second')\n",
    "plt.grid(linestyle='--',axis='y')\n",
    "plt.show()"
   ]
  },
  {
   "cell_type": "markdown",
   "id": "a6248f0f-1ce1-4f03-9c8a-91cdcdc0f73f",
   "metadata": {},
   "source": [
    "The average number of scanned items per second is for fraudulent transactions is about half of the average number of scanned items per second for transactions that are not fraudulent. This seems to be an important variable based on the difference between the groups"
   ]
  },
  {
   "cell_type": "markdown",
   "id": "4394e2fb-7d6d-434c-8768-2bfbbeb26ff8",
   "metadata": {},
   "source": [
    "**Exercise 4: (35 points) In this part, you will build and compare the performance of two different models (from the ones that were covered in DATA-445 or other models that you may be familiar). If you decide to build a model that has not been discussed in DATA-445 or any other analytics course at Grand View, you will need to provide documentation. Do the following:**"
   ]
  },
  {
   "cell_type": "markdown",
   "id": "e4d3c021-ebe3-42bd-8b76-524288cae9f9",
   "metadata": {},
   "source": [
    "(a) Using the train data-frame, define at least five variables as the input variables (that you\n",
    "may consider important to predict fraud). Split the data into two data-frames (taking into\n",
    "account the proportion of 0s and 1s in fraud): training (80%) and testing (20%)."
   ]
  },
  {
   "cell_type": "code",
   "execution_count": 16,
   "id": "1d307831-76c0-4398-92b2-4d7d963b56d0",
   "metadata": {},
   "outputs": [
    {
     "data": {
      "text/html": [
       "<div>\n",
       "<style scoped>\n",
       "    .dataframe tbody tr th:only-of-type {\n",
       "        vertical-align: middle;\n",
       "    }\n",
       "\n",
       "    .dataframe tbody tr th {\n",
       "        vertical-align: top;\n",
       "    }\n",
       "\n",
       "    .dataframe thead th {\n",
       "        text-align: right;\n",
       "    }\n",
       "</style>\n",
       "<table border=\"1\" class=\"dataframe\">\n",
       "  <thead>\n",
       "    <tr style=\"text-align: right;\">\n",
       "      <th></th>\n",
       "      <th>Variable</th>\n",
       "      <th>Importance_Score</th>\n",
       "    </tr>\n",
       "  </thead>\n",
       "  <tbody>\n",
       "    <tr>\n",
       "      <th>0</th>\n",
       "      <td>trustLevel</td>\n",
       "      <td>0.378520</td>\n",
       "    </tr>\n",
       "    <tr>\n",
       "      <th>1</th>\n",
       "      <td>scannedLineItemsPerSecond</td>\n",
       "      <td>0.153957</td>\n",
       "    </tr>\n",
       "    <tr>\n",
       "      <th>2</th>\n",
       "      <td>totalScanTimeInSeconds</td>\n",
       "      <td>0.135441</td>\n",
       "    </tr>\n",
       "    <tr>\n",
       "      <th>3</th>\n",
       "      <td>lineItemVoidsPerPosition</td>\n",
       "      <td>0.100950</td>\n",
       "    </tr>\n",
       "    <tr>\n",
       "      <th>4</th>\n",
       "      <td>valuePerSecond</td>\n",
       "      <td>0.079580</td>\n",
       "    </tr>\n",
       "    <tr>\n",
       "      <th>5</th>\n",
       "      <td>lineItemVoids</td>\n",
       "      <td>0.055736</td>\n",
       "    </tr>\n",
       "    <tr>\n",
       "      <th>6</th>\n",
       "      <td>grandTotal</td>\n",
       "      <td>0.049924</td>\n",
       "    </tr>\n",
       "    <tr>\n",
       "      <th>7</th>\n",
       "      <td>scansWithoutRegistration</td>\n",
       "      <td>0.036680</td>\n",
       "    </tr>\n",
       "    <tr>\n",
       "      <th>8</th>\n",
       "      <td>quantityModifications</td>\n",
       "      <td>0.009212</td>\n",
       "    </tr>\n",
       "  </tbody>\n",
       "</table>\n",
       "</div>"
      ],
      "text/plain": [
       "                    Variable  Importance_Score\n",
       "0                 trustLevel          0.378520\n",
       "1  scannedLineItemsPerSecond          0.153957\n",
       "2     totalScanTimeInSeconds          0.135441\n",
       "3   lineItemVoidsPerPosition          0.100950\n",
       "4             valuePerSecond          0.079580\n",
       "5              lineItemVoids          0.055736\n",
       "6                 grandTotal          0.049924\n",
       "7   scansWithoutRegistration          0.036680\n",
       "8      quantityModifications          0.009212"
      ]
     },
     "execution_count": 16,
     "metadata": {},
     "output_type": "execute_result"
    }
   ],
   "source": [
    "#extracting variable importance scores to select top five variables\n",
    "\n",
    "#defining the empty data frame to store importances\n",
    "importance = pd.DataFrame(columns = train.columns).drop(columns = ['fraud'])\n",
    "\n",
    "for i in range(0, 100):\n",
    "    #defining the input and target variables\n",
    "    x = train.drop(columns = ['fraud'])\n",
    "    y = train['fraud']\n",
    "\n",
    "    #splitting the data\n",
    "    x_train, x_test, y_train, y_test = train_test_split(x, y, test_size = 0.2, stratify = y)\n",
    "    \n",
    "    #building the model\n",
    "    rf_md = RandomForestClassifier(n_estimators = 500, max_depth = 5).fit(x_train, y_train)\n",
    "\n",
    "    #extracting the feature importance\n",
    "    importance.loc[i] = rf_md.feature_importances_.T\n",
    "\n",
    "#average importance of each of the variables\n",
    "pd.DataFrame({'Variable':importance.mean().index, \n",
    "              'Importance_Score':importance.mean().values}).sort_values(by = 'Importance_Score',\n",
    "                                                                        ascending = False).reset_index(drop = True)"
   ]
  },
  {
   "cell_type": "markdown",
   "id": "a12c1815-07b8-47c2-b112-29e5e0c98264",
   "metadata": {},
   "source": [
    "(b) Using the training data-frame, build your first model. Then, predict the likelihood of fraud on the testing data-frame. Estimate the cutoff value that makes the model the closest to the perfect model based on the precision-recall curve. Use the precision recall curve function to compute precision-recall curve. Using the optimal cutoff value, create the classification report."
   ]
  },
  {
   "cell_type": "markdown",
   "id": "3d80c0ae-3edb-4e0b-9872-8efd2586644a",
   "metadata": {},
   "source": [
    "**Random Forest**"
   ]
  },
  {
   "cell_type": "code",
   "execution_count": 18,
   "id": "34c5dcf6-5e47-4e92-a218-1c70b14e3994",
   "metadata": {},
   "outputs": [
    {
     "name": "stdout",
     "output_type": "stream",
     "text": [
      "Optimal Cut-off: 0.35192144260287256 \n",
      "\n",
      "              precision    recall  f1-score   support\n",
      "\n",
      "           0       0.99      0.98      0.98       355\n",
      "           1       0.73      0.76      0.74        21\n",
      "\n",
      "    accuracy                           0.97       376\n",
      "   macro avg       0.86      0.87      0.86       376\n",
      "weighted avg       0.97      0.97      0.97       376\n",
      "\n"
     ]
    }
   ],
   "source": [
    "#building the model\n",
    "rf_md = RandomForestClassifier(n_estimators = 500, max_depth = 5).fit(x_train, y_train)\n",
    "    \n",
    "#predict on test\n",
    "rf_pred = rf_md.predict_proba(x_test)[:, 1]\n",
    "\n",
    "#computing the precision-recall curve to estimate the optimal cut-off\n",
    "precision, recall, cutoff = precision_recall_curve(y_test, rf_pred)\n",
    "\n",
    "#creating the data frame to store values\n",
    "rf_cutoff = pd.DataFrame({'precision': precision[:-1], 'recall': recall[:-1], 'cutoff': cutoff})\n",
    "\n",
    "#using the distance formula to find the optimal cutoff (precision = 1.0, recall = 1.0)\n",
    "rf_cutoff['recall_minus_1'] = rf_cutoff['recall'] - 1\n",
    "rf_cutoff['precision_minus_1'] = rf_cutoff['precision'] - 1\n",
    "\n",
    "rf_cutoff['distance'] = np.sqrt(rf_cutoff['recall_minus_1']**2 + rf_cutoff['precision_minus_1']**2)\n",
    "\n",
    "#sorting the data frame and extracting the threshold value with minimal distance\n",
    "rf_cutoff = rf_cutoff.sort_values(by = 'distance', ascending = True).reset_index(drop = True)\n",
    "\n",
    "#extracting optimal cutoff\n",
    "rf_cutoff_val = rf_cutoff['cutoff'][0]\n",
    "print('Optimal Cut-off:', rf_cutoff_val, '\\n')\n",
    "\n",
    "#changing likelihoods to labels with optimal cutoff value\n",
    "rf_pred_label = np.where(rf_pred < rf_cutoff_val, 0, 1)\n",
    "\n",
    "#printing the classification report\n",
    "print(classification_report(y_test, rf_pred_label))"
   ]
  },
  {
   "cell_type": "code",
   "execution_count": 25,
   "id": "b9a1f605-89c6-4477-b359-f8d80fd2d34a",
   "metadata": {},
   "outputs": [
    {
     "name": "stdout",
     "output_type": "stream",
     "text": [
      "     recall  precision    cutoff\n",
      "0  0.761905   0.727273  0.351921\n"
     ]
    },
    {
     "data": {
      "image/png": "[encoded data removed]",
      "text/plain": [
       "<Figure size 640x480 with 1 Axes>"
      ]
     },
     "metadata": {},
     "output_type": "display_data"
    }
   ],
   "source": [
    "print(rf_cutoff[['recall', 'precision', 'cutoff']][0:1])\n",
    "\n",
    "plt.plot(recall[:-1], precision[:-1])\n",
    "plt.plot([rf_cutoff['recall'][0]], rf_cutoff['precision'][0], '.', color = 'Green', markersize = 12, label = 'Optimal Cutoff')\n",
    "plt.xlabel('Recall')\n",
    "plt.ylabel('Precision')\n",
    "plt.legend(bbox_to_anchor=(1.05, 1), loc='upper left', borderaxespad=0)\n",
    "plt.grid()\n",
    "plt.show()"
   ]
  },
  {
   "cell_type": "markdown",
   "id": "6473776c-0d88-4a8b-9ca5-e98b31e3fcb4",
   "metadata": {},
   "source": [
    "(c) Using the training data-frame, build your second model. Then, predict the likelihood of fraud on the testing data-frame. Estimate the cutoff value that makes the model the closest to the perfect model based on the precision-recall curve. Use the precision recall curve function to compute precision-recall curve. Using the optimal cutoff value, create the classification report."
   ]
  },
  {
   "cell_type": "markdown",
   "id": "c4f2a850-0a82-4930-97c1-6eaf863bbe6c",
   "metadata": {},
   "source": [
    "**AdaBoost**"
   ]
  },
  {
   "cell_type": "code",
   "execution_count": 33,
   "id": "81bb47cb-a4b1-4023-84e5-5ec57cb7efba",
   "metadata": {},
   "outputs": [
    {
     "name": "stdout",
     "output_type": "stream",
     "text": [
      "Optimal Cut-off: 0.006916367769391473 \n",
      "\n",
      "              precision    recall  f1-score   support\n",
      "\n",
      "           0       0.99      0.99      0.99       355\n",
      "           1       0.83      0.90      0.86        21\n",
      "\n",
      "    accuracy                           0.98       376\n",
      "   macro avg       0.91      0.95      0.93       376\n",
      "weighted avg       0.98      0.98      0.98       376\n",
      "\n"
     ]
    }
   ],
   "source": [
    "#building the model\n",
    "ada_md = AdaBoostClassifier(base_estimator=DecisionTreeClassifier(max_depth=5),n_estimators=500,learning_rate=0.01).fit(x_train, y_train)\n",
    "    \n",
    "#predict on test\n",
    "ada_pred = ada_md.predict_proba(x_test)[:, 1]\n",
    "\n",
    "#computing the precision-recall curve to estimate the optimal cut-off\n",
    "precision, recall, cutoff = precision_recall_curve(y_test, ada_pred)\n",
    "\n",
    "#creating the data frame to store values\n",
    "ada_cutoff = pd.DataFrame({'precision': precision[:-1], 'recall': recall[:-1], 'cutoff': cutoff})\n",
    "\n",
    "#using the distance formula to find the optimal cutoff (precision = 1.0, recall = 1.0)\n",
    "ada_cutoff['recall_minus_1'] = ada_cutoff['recall'] - 1\n",
    "ada_cutoff['precision_minus_1'] = ada_cutoff['precision'] - 1\n",
    "\n",
    "ada_cutoff['distance'] = np.sqrt(ada_cutoff['recall_minus_1']**2 + ada_cutoff['precision_minus_1']**2)\n",
    "\n",
    "#sorting the data frame and extracting the threshold value with minimal distance\n",
    "ada_cutoff = ada_cutoff.sort_values(by = 'distance', ascending = True).reset_index(drop = True)\n",
    "\n",
    "#extracting optimal cutoff\n",
    "ada_cutoff_val = ada_cutoff['cutoff'][0]\n",
    "print('Optimal Cut-off:', ada_cutoff_val, '\\n')\n",
    "\n",
    "#changing likelihoods to labels with optimal cutoff value\n",
    "ada_pred_label = np.where(ada_pred < ada_cutoff_val, 0, 1)\n",
    "\n",
    "#printing the classification report\n",
    "print(classification_report(y_test, ada_pred_label))"
   ]
  },
  {
   "cell_type": "code",
   "execution_count": 34,
   "id": "2df49fd2-aea5-471b-a9b8-85126e27e72b",
   "metadata": {},
   "outputs": [
    {
     "name": "stdout",
     "output_type": "stream",
     "text": [
      "     recall  precision    cutoff\n",
      "0  0.904762   0.826087  0.006916\n"
     ]
    },
    {
     "data": {
      "image/png": "[encoded data removed]",
      "text/plain": [
       "<Figure size 640x480 with 1 Axes>"
      ]
     },
     "metadata": {},
     "output_type": "display_data"
    }
   ],
   "source": [
    "print(ada_cutoff[['recall', 'precision', 'cutoff']][0:1])\n",
    "\n",
    "plt.plot(recall[:-1], precision[:-1])\n",
    "plt.plot([ada_cutoff['recall'][0]], ada_cutoff['precision'][0], '.', color = 'Green', markersize = 12, label = 'Optimal Cutoff')\n",
    "plt.xlabel('Recall')\n",
    "plt.ylabel('Precision')\n",
    "plt.legend(bbox_to_anchor=(1.05, 1), loc='upper left', borderaxespad=0)\n",
    "plt.grid()\n",
    "plt.show()"
   ]
  },
  {
   "cell_type": "markdown",
   "id": "141f9832-3d1c-45d0-a932-368650c7b8a0",
   "metadata": {},
   "source": [
    "(d) Using the results from part (b) and (c), what model would use to predict customer fraud? Be specific"
   ]
  },
  {
   "cell_type": "markdown",
   "id": "6e1c5e92-3290-42dc-a27d-a82536f2dc8a",
   "metadata": {},
   "source": [
    "I would use the AdaBoost model (500 estimators, depth of 5, learning rate of 0.01, cut off of 0.006916) to predict customer fraud. I would use this model because it has higher recall (0.904762 > 0.761905) and precision (0.826087 > 0.727273) when compared to the random forest model."
   ]
  },
  {
   "cell_type": "code",
   "execution_count": null,
   "id": "f483c9bc-6741-48ad-8e97-e2e4a70932e9",
   "metadata": {},
   "outputs": [],
   "source": []
  }
 ],
 "metadata": {
  "kernelspec": {
   "display_name": "conda_python3",
   "language": "python",
   "name": "conda_python3"
  },
  "language_info": {
   "codemirror_mode": {
    "name": "ipython",
    "version": 3
   },
   "file_extension": ".py",
   "mimetype": "text/x-python",
   "name": "python",
   "nbconvert_exporter": "python",
   "pygments_lexer": "ipython3",
   "version": "3.10.6"
  }
 },
 "nbformat": 4,
 "nbformat_minor": 5
}
